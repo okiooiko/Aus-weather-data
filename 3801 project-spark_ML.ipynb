{
 "cells": [
  {
   "cell_type": "code",
   "execution_count": 1,
   "metadata": {},
   "outputs": [
    {
     "name": "stdout",
     "output_type": "stream",
     "text": [
      "Requirement already satisfied: pandas in /opt/conda/lib/python3.8/site-packages (1.1.4)\n",
      "Requirement already satisfied: python-dateutil>=2.7.3 in /opt/conda/lib/python3.8/site-packages (from pandas) (2.8.1)\n",
      "Requirement already satisfied: pytz>=2017.2 in /opt/conda/lib/python3.8/site-packages (from pandas) (2020.4)\n",
      "Requirement already satisfied: numpy>=1.15.4 in /opt/conda/lib/python3.8/site-packages (from pandas) (1.19.4)\n",
      "Requirement already satisfied: six>=1.5 in /opt/conda/lib/python3.8/site-packages (from python-dateutil>=2.7.3->pandas) (1.15.0)\n",
      "Requirement already satisfied: seaborn in /opt/conda/lib/python3.8/site-packages (0.11.0)\n",
      "Requirement already satisfied: matplotlib>=2.2 in /opt/conda/lib/python3.8/site-packages (from seaborn) (3.3.2)\n",
      "Requirement already satisfied: numpy>=1.15 in /opt/conda/lib/python3.8/site-packages (from seaborn) (1.19.4)\n",
      "Requirement already satisfied: pandas>=0.23 in /opt/conda/lib/python3.8/site-packages (from seaborn) (1.1.4)\n",
      "Requirement already satisfied: scipy>=1.0 in /opt/conda/lib/python3.8/site-packages (from seaborn) (1.5.3)\n",
      "Requirement already satisfied: python-dateutil>=2.1 in /opt/conda/lib/python3.8/site-packages (from matplotlib>=2.2->seaborn) (2.8.1)\n",
      "Requirement already satisfied: pillow>=6.2.0 in /opt/conda/lib/python3.8/site-packages (from matplotlib>=2.2->seaborn) (8.0.1)\n",
      "Requirement already satisfied: pyparsing!=2.0.4,!=2.1.2,!=2.1.6,>=2.0.3 in /opt/conda/lib/python3.8/site-packages (from matplotlib>=2.2->seaborn) (2.4.7)\n",
      "Requirement already satisfied: kiwisolver>=1.0.1 in /opt/conda/lib/python3.8/site-packages (from matplotlib>=2.2->seaborn) (1.3.1)\n",
      "Requirement already satisfied: cycler>=0.10 in /opt/conda/lib/python3.8/site-packages (from matplotlib>=2.2->seaborn) (0.10.0)\n",
      "Requirement already satisfied: certifi>=2020.06.20 in /opt/conda/lib/python3.8/site-packages (from matplotlib>=2.2->seaborn) (2020.6.20)\n",
      "Requirement already satisfied: pytz>=2017.2 in /opt/conda/lib/python3.8/site-packages (from pandas>=0.23->seaborn) (2020.4)\n",
      "Requirement already satisfied: six>=1.5 in /opt/conda/lib/python3.8/site-packages (from python-dateutil>=2.1->matplotlib>=2.2->seaborn) (1.15.0)\n"
     ]
    }
   ],
   "source": [
    "!pip install pandas\n",
    "!pip install seaborn"
   ]
  },
  {
   "cell_type": "code",
   "execution_count": 122,
   "metadata": {},
   "outputs": [],
   "source": [
    "import pandas as pd\n",
    "import numpy as np\n",
    "import seaborn as sns\n",
    "import matplotlib.pyplot as plt\n",
    "import warnings\n",
    "\n",
    "from pyspark.sql import SparkSession\n",
    "from sklearn import cluster\n",
    "from sklearn.metrics import classification_report, confusion_matrix\n",
    "from pyspark.ml.feature import VectorAssembler\n",
    "from pyspark.ml.regression import LinearRegression\n",
    "from pyspark.ml.clustering  import  KMeans\n",
    "from pyspark.ml.classification import LogisticRegression\n",
    "\n",
    "\n",
    "warnings.filterwarnings('ignore')\n",
    "spark = SparkSession.builder.appName('Anlysis weather in AUS').getOrCreate()"
   ]
  },
  {
   "cell_type": "code",
   "execution_count": 123,
   "metadata": {},
   "outputs": [],
   "source": [
    "#get the file from hdfs\n",
    "df = spark.read.csv('hdfs://namenode/weatherAUS.csv', header = True, inferSchema = True,)"
   ]
  },
  {
   "cell_type": "code",
   "execution_count": 124,
   "metadata": {},
   "outputs": [
    {
     "name": "stdout",
     "output_type": "stream",
     "text": [
      "(145460, 23)\n"
     ]
    }
   ],
   "source": [
    "print((df.count(), len(df.columns)))"
   ]
  },
  {
   "cell_type": "markdown",
   "metadata": {},
   "source": [
    "# Data preparation"
   ]
  },
  {
   "cell_type": "markdown",
   "metadata": {},
   "source": [
    "## Step1: get data that we need"
   ]
  },
  {
   "cell_type": "code",
   "execution_count": 125,
   "metadata": {},
   "outputs": [],
   "source": [
    "#transfer the saprk dataframe into pandas dataframe\n",
    "newdf = df.toPandas()"
   ]
  },
  {
   "cell_type": "code",
   "execution_count": 126,
   "metadata": {},
   "outputs": [
    {
     "name": "stdout",
     "output_type": "stream",
     "text": [
      "<class 'pandas.core.frame.DataFrame'>\n",
      "RangeIndex: 145460 entries, 0 to 145459\n",
      "Data columns (total 23 columns):\n",
      " #   Column         Non-Null Count   Dtype \n",
      "---  ------         --------------   ----- \n",
      " 0   Date           145460 non-null  object\n",
      " 1   Location       145460 non-null  object\n",
      " 2   MinTemp        145460 non-null  object\n",
      " 3   MaxTemp        145460 non-null  object\n",
      " 4   Rainfall       145460 non-null  object\n",
      " 5   Evaporation    145460 non-null  object\n",
      " 6   Sunshine       145460 non-null  object\n",
      " 7   WindGustDir    145460 non-null  object\n",
      " 8   WindGustSpeed  145460 non-null  object\n",
      " 9   WindDir9am     145460 non-null  object\n",
      " 10  WindDir3pm     145460 non-null  object\n",
      " 11  WindSpeed9am   145460 non-null  object\n",
      " 12  WindSpeed3pm   145460 non-null  object\n",
      " 13  Humidity9am    145460 non-null  object\n",
      " 14  Humidity3pm    145460 non-null  object\n",
      " 15  Pressure9am    145460 non-null  object\n",
      " 16  Pressure3pm    145460 non-null  object\n",
      " 17  Cloud9am       145460 non-null  object\n",
      " 18  Cloud3pm       145460 non-null  object\n",
      " 19  Temp9am        145460 non-null  object\n",
      " 20  Temp3pm        145460 non-null  object\n",
      " 21  RainToday      145460 non-null  object\n",
      " 22  RainTomorrow   145460 non-null  object\n",
      "dtypes: object(23)\n",
      "memory usage: 25.5+ MB\n"
     ]
    }
   ],
   "source": [
    "newdf.info()"
   ]
  },
  {
   "cell_type": "code",
   "execution_count": 127,
   "metadata": {},
   "outputs": [],
   "source": [
    "#Get the column that we need \n",
    "datadf = newdf[[\"Date\",\"Location\",\"MinTemp\",\"MaxTemp\",\n",
    "            \"Rainfall\",\"WindGustSpeed\",\"WindSpeed9am\",\"WindSpeed3pm\",\n",
    "            \"Humidity9am\", \"Humidity3pm\",\"Pressure9am\",\n",
    "            \"Pressure3pm\", \"Cloud9am\",\"Cloud3pm\",\"Temp9am\", \"Temp3pm\",\"RainToday\", \n",
    "            \"RainTomorrow\"]]"
   ]
  },
  {
   "cell_type": "code",
   "execution_count": 128,
   "metadata": {},
   "outputs": [
    {
     "data": {
      "text/html": [
       "<div>\n",
       "<style scoped>\n",
       "    .dataframe tbody tr th:only-of-type {\n",
       "        vertical-align: middle;\n",
       "    }\n",
       "\n",
       "    .dataframe tbody tr th {\n",
       "        vertical-align: top;\n",
       "    }\n",
       "\n",
       "    .dataframe thead th {\n",
       "        text-align: right;\n",
       "    }\n",
       "</style>\n",
       "<table border=\"1\" class=\"dataframe\">\n",
       "  <thead>\n",
       "    <tr style=\"text-align: right;\">\n",
       "      <th></th>\n",
       "      <th>Date</th>\n",
       "      <th>Location</th>\n",
       "      <th>MinTemp</th>\n",
       "      <th>MaxTemp</th>\n",
       "      <th>Rainfall</th>\n",
       "      <th>WindGustSpeed</th>\n",
       "      <th>WindSpeed9am</th>\n",
       "      <th>WindSpeed3pm</th>\n",
       "      <th>Humidity9am</th>\n",
       "      <th>Humidity3pm</th>\n",
       "      <th>Pressure9am</th>\n",
       "      <th>Pressure3pm</th>\n",
       "      <th>Cloud9am</th>\n",
       "      <th>Cloud3pm</th>\n",
       "      <th>Temp9am</th>\n",
       "      <th>Temp3pm</th>\n",
       "      <th>RainToday</th>\n",
       "      <th>RainTomorrow</th>\n",
       "    </tr>\n",
       "  </thead>\n",
       "  <tbody>\n",
       "    <tr>\n",
       "      <th>0</th>\n",
       "      <td>2008-12-01</td>\n",
       "      <td>Albury</td>\n",
       "      <td>13.4</td>\n",
       "      <td>22.9</td>\n",
       "      <td>0.6</td>\n",
       "      <td>44</td>\n",
       "      <td>20</td>\n",
       "      <td>24</td>\n",
       "      <td>71</td>\n",
       "      <td>22</td>\n",
       "      <td>1007.7</td>\n",
       "      <td>1007.1</td>\n",
       "      <td>8</td>\n",
       "      <td>NA</td>\n",
       "      <td>16.9</td>\n",
       "      <td>21.8</td>\n",
       "      <td>No</td>\n",
       "      <td>No</td>\n",
       "    </tr>\n",
       "    <tr>\n",
       "      <th>1</th>\n",
       "      <td>2008-12-02</td>\n",
       "      <td>Albury</td>\n",
       "      <td>7.4</td>\n",
       "      <td>25.1</td>\n",
       "      <td>0</td>\n",
       "      <td>44</td>\n",
       "      <td>4</td>\n",
       "      <td>22</td>\n",
       "      <td>44</td>\n",
       "      <td>25</td>\n",
       "      <td>1010.6</td>\n",
       "      <td>1007.8</td>\n",
       "      <td>NA</td>\n",
       "      <td>NA</td>\n",
       "      <td>17.2</td>\n",
       "      <td>24.3</td>\n",
       "      <td>No</td>\n",
       "      <td>No</td>\n",
       "    </tr>\n",
       "    <tr>\n",
       "      <th>2</th>\n",
       "      <td>2008-12-03</td>\n",
       "      <td>Albury</td>\n",
       "      <td>12.9</td>\n",
       "      <td>25.7</td>\n",
       "      <td>0</td>\n",
       "      <td>46</td>\n",
       "      <td>19</td>\n",
       "      <td>26</td>\n",
       "      <td>38</td>\n",
       "      <td>30</td>\n",
       "      <td>1007.6</td>\n",
       "      <td>1008.7</td>\n",
       "      <td>NA</td>\n",
       "      <td>2</td>\n",
       "      <td>21</td>\n",
       "      <td>23.2</td>\n",
       "      <td>No</td>\n",
       "      <td>No</td>\n",
       "    </tr>\n",
       "    <tr>\n",
       "      <th>3</th>\n",
       "      <td>2008-12-04</td>\n",
       "      <td>Albury</td>\n",
       "      <td>9.2</td>\n",
       "      <td>28</td>\n",
       "      <td>0</td>\n",
       "      <td>24</td>\n",
       "      <td>11</td>\n",
       "      <td>9</td>\n",
       "      <td>45</td>\n",
       "      <td>16</td>\n",
       "      <td>1017.6</td>\n",
       "      <td>1012.8</td>\n",
       "      <td>NA</td>\n",
       "      <td>NA</td>\n",
       "      <td>18.1</td>\n",
       "      <td>26.5</td>\n",
       "      <td>No</td>\n",
       "      <td>No</td>\n",
       "    </tr>\n",
       "    <tr>\n",
       "      <th>4</th>\n",
       "      <td>2008-12-05</td>\n",
       "      <td>Albury</td>\n",
       "      <td>17.5</td>\n",
       "      <td>32.3</td>\n",
       "      <td>1</td>\n",
       "      <td>41</td>\n",
       "      <td>7</td>\n",
       "      <td>20</td>\n",
       "      <td>82</td>\n",
       "      <td>33</td>\n",
       "      <td>1010.8</td>\n",
       "      <td>1006</td>\n",
       "      <td>7</td>\n",
       "      <td>8</td>\n",
       "      <td>17.8</td>\n",
       "      <td>29.7</td>\n",
       "      <td>No</td>\n",
       "      <td>No</td>\n",
       "    </tr>\n",
       "  </tbody>\n",
       "</table>\n",
       "</div>"
      ],
      "text/plain": [
       "         Date Location MinTemp MaxTemp Rainfall WindGustSpeed WindSpeed9am  \\\n",
       "0  2008-12-01   Albury    13.4    22.9      0.6            44           20   \n",
       "1  2008-12-02   Albury     7.4    25.1        0            44            4   \n",
       "2  2008-12-03   Albury    12.9    25.7        0            46           19   \n",
       "3  2008-12-04   Albury     9.2      28        0            24           11   \n",
       "4  2008-12-05   Albury    17.5    32.3        1            41            7   \n",
       "\n",
       "  WindSpeed3pm Humidity9am Humidity3pm Pressure9am Pressure3pm Cloud9am  \\\n",
       "0           24          71          22      1007.7      1007.1        8   \n",
       "1           22          44          25      1010.6      1007.8       NA   \n",
       "2           26          38          30      1007.6      1008.7       NA   \n",
       "3            9          45          16      1017.6      1012.8       NA   \n",
       "4           20          82          33      1010.8        1006        7   \n",
       "\n",
       "  Cloud3pm Temp9am Temp3pm RainToday RainTomorrow  \n",
       "0       NA    16.9    21.8        No           No  \n",
       "1       NA    17.2    24.3        No           No  \n",
       "2        2      21    23.2        No           No  \n",
       "3       NA    18.1    26.5        No           No  \n",
       "4        8    17.8    29.7        No           No  "
      ]
     },
     "execution_count": 128,
     "metadata": {},
     "output_type": "execute_result"
    }
   ],
   "source": [
    "datadf.head(5)"
   ]
  },
  {
   "cell_type": "markdown",
   "metadata": {},
   "source": [
    "## Step2: Data clean"
   ]
  },
  {
   "cell_type": "markdown",
   "metadata": {},
   "source": [
    "### (1) Estimate wheather  there exist the null value in dataset"
   ]
  },
  {
   "cell_type": "code",
   "execution_count": 129,
   "metadata": {},
   "outputs": [
    {
     "name": "stdout",
     "output_type": "stream",
     "text": [
      "<class 'pandas.core.frame.DataFrame'>\n",
      "RangeIndex: 145460 entries, 0 to 145459\n",
      "Data columns (total 18 columns):\n",
      " #   Column         Non-Null Count   Dtype \n",
      "---  ------         --------------   ----- \n",
      " 0   Date           145460 non-null  object\n",
      " 1   Location       145460 non-null  object\n",
      " 2   MinTemp        145460 non-null  object\n",
      " 3   MaxTemp        145460 non-null  object\n",
      " 4   Rainfall       145460 non-null  object\n",
      " 5   WindGustSpeed  145460 non-null  object\n",
      " 6   WindSpeed9am   145460 non-null  object\n",
      " 7   WindSpeed3pm   145460 non-null  object\n",
      " 8   Humidity9am    145460 non-null  object\n",
      " 9   Humidity3pm    145460 non-null  object\n",
      " 10  Pressure9am    145460 non-null  object\n",
      " 11  Pressure3pm    145460 non-null  object\n",
      " 12  Cloud9am       145460 non-null  object\n",
      " 13  Cloud3pm       145460 non-null  object\n",
      " 14  Temp9am        145460 non-null  object\n",
      " 15  Temp3pm        145460 non-null  object\n",
      " 16  RainToday      145460 non-null  object\n",
      " 17  RainTomorrow   145460 non-null  object\n",
      "dtypes: object(18)\n",
      "memory usage: 20.0+ MB\n"
     ]
    }
   ],
   "source": [
    "datadf.info()"
   ]
  },
  {
   "cell_type": "markdown",
   "metadata": {},
   "source": [
    "### There is no null value in datatset"
   ]
  },
  {
   "cell_type": "markdown",
   "metadata": {},
   "source": [
    "### (2) Drop NA value"
   ]
  },
  {
   "cell_type": "code",
   "execution_count": 130,
   "metadata": {},
   "outputs": [],
   "source": [
    "columns_need = [\"Date\",\"Location\",\"MinTemp\",\"MaxTemp\",\n",
    "            \"Rainfall\",\"WindGustSpeed\",\"WindSpeed9am\",\"WindSpeed3pm\",\n",
    "            \"Humidity9am\", \"Humidity3pm\",\"Pressure9am\",\n",
    "            \"Pressure3pm\", \"Cloud9am\",\"Cloud3pm\",\"Temp9am\", \"Temp3pm\",\"RainToday\", \n",
    "            \"RainTomorrow\"]"
   ]
  },
  {
   "cell_type": "markdown",
   "metadata": {},
   "source": [
    "* Since the number of files is large enough, we can directly delete the rows whose data contains NA"
   ]
  },
  {
   "cell_type": "code",
   "execution_count": 131,
   "metadata": {},
   "outputs": [
    {
     "data": {
      "text/html": [
       "<div>\n",
       "<style scoped>\n",
       "    .dataframe tbody tr th:only-of-type {\n",
       "        vertical-align: middle;\n",
       "    }\n",
       "\n",
       "    .dataframe tbody tr th {\n",
       "        vertical-align: top;\n",
       "    }\n",
       "\n",
       "    .dataframe thead th {\n",
       "        text-align: right;\n",
       "    }\n",
       "</style>\n",
       "<table border=\"1\" class=\"dataframe\">\n",
       "  <thead>\n",
       "    <tr style=\"text-align: right;\">\n",
       "      <th></th>\n",
       "      <th>Date</th>\n",
       "      <th>Location</th>\n",
       "      <th>MinTemp</th>\n",
       "      <th>MaxTemp</th>\n",
       "      <th>Rainfall</th>\n",
       "      <th>WindGustSpeed</th>\n",
       "      <th>WindSpeed9am</th>\n",
       "      <th>WindSpeed3pm</th>\n",
       "      <th>Humidity9am</th>\n",
       "      <th>Humidity3pm</th>\n",
       "      <th>Pressure9am</th>\n",
       "      <th>Pressure3pm</th>\n",
       "      <th>Cloud9am</th>\n",
       "      <th>Cloud3pm</th>\n",
       "      <th>Temp9am</th>\n",
       "      <th>Temp3pm</th>\n",
       "      <th>RainToday</th>\n",
       "      <th>RainTomorrow</th>\n",
       "    </tr>\n",
       "  </thead>\n",
       "  <tbody>\n",
       "    <tr>\n",
       "      <th>4</th>\n",
       "      <td>2008-12-05</td>\n",
       "      <td>Albury</td>\n",
       "      <td>17.5</td>\n",
       "      <td>32.3</td>\n",
       "      <td>1</td>\n",
       "      <td>41</td>\n",
       "      <td>7</td>\n",
       "      <td>20</td>\n",
       "      <td>82</td>\n",
       "      <td>33</td>\n",
       "      <td>1010.8</td>\n",
       "      <td>1006</td>\n",
       "      <td>7</td>\n",
       "      <td>8</td>\n",
       "      <td>17.8</td>\n",
       "      <td>29.7</td>\n",
       "      <td>No</td>\n",
       "      <td>No</td>\n",
       "    </tr>\n",
       "    <tr>\n",
       "      <th>11</th>\n",
       "      <td>2008-12-12</td>\n",
       "      <td>Albury</td>\n",
       "      <td>15.9</td>\n",
       "      <td>21.7</td>\n",
       "      <td>2.2</td>\n",
       "      <td>31</td>\n",
       "      <td>15</td>\n",
       "      <td>13</td>\n",
       "      <td>89</td>\n",
       "      <td>91</td>\n",
       "      <td>1010.5</td>\n",
       "      <td>1004.2</td>\n",
       "      <td>8</td>\n",
       "      <td>8</td>\n",
       "      <td>15.9</td>\n",
       "      <td>17</td>\n",
       "      <td>Yes</td>\n",
       "      <td>Yes</td>\n",
       "    </tr>\n",
       "    <tr>\n",
       "      <th>12</th>\n",
       "      <td>2008-12-13</td>\n",
       "      <td>Albury</td>\n",
       "      <td>15.9</td>\n",
       "      <td>18.6</td>\n",
       "      <td>15.6</td>\n",
       "      <td>61</td>\n",
       "      <td>28</td>\n",
       "      <td>28</td>\n",
       "      <td>76</td>\n",
       "      <td>93</td>\n",
       "      <td>994.3</td>\n",
       "      <td>993</td>\n",
       "      <td>8</td>\n",
       "      <td>8</td>\n",
       "      <td>17.4</td>\n",
       "      <td>15.8</td>\n",
       "      <td>Yes</td>\n",
       "      <td>Yes</td>\n",
       "    </tr>\n",
       "    <tr>\n",
       "      <th>16</th>\n",
       "      <td>2008-12-17</td>\n",
       "      <td>Albury</td>\n",
       "      <td>14.1</td>\n",
       "      <td>20.9</td>\n",
       "      <td>0</td>\n",
       "      <td>22</td>\n",
       "      <td>11</td>\n",
       "      <td>9</td>\n",
       "      <td>69</td>\n",
       "      <td>82</td>\n",
       "      <td>1012.2</td>\n",
       "      <td>1010.4</td>\n",
       "      <td>8</td>\n",
       "      <td>1</td>\n",
       "      <td>17.2</td>\n",
       "      <td>18.1</td>\n",
       "      <td>No</td>\n",
       "      <td>Yes</td>\n",
       "    </tr>\n",
       "    <tr>\n",
       "      <th>17</th>\n",
       "      <td>2008-12-18</td>\n",
       "      <td>Albury</td>\n",
       "      <td>13.5</td>\n",
       "      <td>22.9</td>\n",
       "      <td>16.8</td>\n",
       "      <td>63</td>\n",
       "      <td>6</td>\n",
       "      <td>20</td>\n",
       "      <td>80</td>\n",
       "      <td>65</td>\n",
       "      <td>1005.8</td>\n",
       "      <td>1002.2</td>\n",
       "      <td>8</td>\n",
       "      <td>1</td>\n",
       "      <td>18</td>\n",
       "      <td>21.5</td>\n",
       "      <td>Yes</td>\n",
       "      <td>Yes</td>\n",
       "    </tr>\n",
       "  </tbody>\n",
       "</table>\n",
       "</div>"
      ],
      "text/plain": [
       "          Date Location MinTemp MaxTemp Rainfall WindGustSpeed WindSpeed9am  \\\n",
       "4   2008-12-05   Albury    17.5    32.3        1            41            7   \n",
       "11  2008-12-12   Albury    15.9    21.7      2.2            31           15   \n",
       "12  2008-12-13   Albury    15.9    18.6     15.6            61           28   \n",
       "16  2008-12-17   Albury    14.1    20.9        0            22           11   \n",
       "17  2008-12-18   Albury    13.5    22.9     16.8            63            6   \n",
       "\n",
       "   WindSpeed3pm Humidity9am Humidity3pm Pressure9am Pressure3pm Cloud9am  \\\n",
       "4            20          82          33      1010.8        1006        7   \n",
       "11           13          89          91      1010.5      1004.2        8   \n",
       "12           28          76          93       994.3         993        8   \n",
       "16            9          69          82      1012.2      1010.4        8   \n",
       "17           20          80          65      1005.8      1002.2        8   \n",
       "\n",
       "   Cloud3pm Temp9am Temp3pm RainToday RainTomorrow  \n",
       "4         8    17.8    29.7        No           No  \n",
       "11        8    15.9      17       Yes          Yes  \n",
       "12        8    17.4    15.8       Yes          Yes  \n",
       "16        1    17.2    18.1        No          Yes  \n",
       "17        1      18    21.5       Yes          Yes  "
      ]
     },
     "execution_count": 131,
     "metadata": {},
     "output_type": "execute_result"
    }
   ],
   "source": [
    "for i in columns_need:\n",
    "    datadf = datadf.drop(datadf[datadf[i] == 'NA'].index)\n",
    "datadf.head(5)"
   ]
  },
  {
   "cell_type": "code",
   "execution_count": 132,
   "metadata": {},
   "outputs": [
    {
     "name": "stdout",
     "output_type": "stream",
     "text": [
      "<class 'pandas.core.frame.DataFrame'>\n",
      "Int64Index: 73411 entries, 4 to 145458\n",
      "Data columns (total 18 columns):\n",
      " #   Column         Non-Null Count  Dtype \n",
      "---  ------         --------------  ----- \n",
      " 0   Date           73411 non-null  object\n",
      " 1   Location       73411 non-null  object\n",
      " 2   MinTemp        73411 non-null  object\n",
      " 3   MaxTemp        73411 non-null  object\n",
      " 4   Rainfall       73411 non-null  object\n",
      " 5   WindGustSpeed  73411 non-null  object\n",
      " 6   WindSpeed9am   73411 non-null  object\n",
      " 7   WindSpeed3pm   73411 non-null  object\n",
      " 8   Humidity9am    73411 non-null  object\n",
      " 9   Humidity3pm    73411 non-null  object\n",
      " 10  Pressure9am    73411 non-null  object\n",
      " 11  Pressure3pm    73411 non-null  object\n",
      " 12  Cloud9am       73411 non-null  object\n",
      " 13  Cloud3pm       73411 non-null  object\n",
      " 14  Temp9am        73411 non-null  object\n",
      " 15  Temp3pm        73411 non-null  object\n",
      " 16  RainToday      73411 non-null  object\n",
      " 17  RainTomorrow   73411 non-null  object\n",
      "dtypes: object(18)\n",
      "memory usage: 10.6+ MB\n"
     ]
    }
   ],
   "source": [
    "datadf.info()"
   ]
  },
  {
   "cell_type": "markdown",
   "metadata": {},
   "source": [
    "The data size is 73411 >10000 after clean the original dataset"
   ]
  },
  {
   "cell_type": "markdown",
   "metadata": {},
   "source": [
    "## step3: Change the 'Date' into date form --year,month,day and drop the 'Date' attributes"
   ]
  },
  {
   "cell_type": "code",
   "execution_count": 133,
   "metadata": {},
   "outputs": [],
   "source": [
    "data_df = datadf"
   ]
  },
  {
   "cell_type": "code",
   "execution_count": 134,
   "metadata": {},
   "outputs": [],
   "source": [
    "#Date is strings type, change them into datetime format\n",
    "data_df['Date'] = pd.to_datetime(data_df['Date'])"
   ]
  },
  {
   "cell_type": "code",
   "execution_count": 135,
   "metadata": {},
   "outputs": [],
   "source": [
    "data_df['Year'] = data_df['Date'].dt.year\n",
    "data_df['Month'] = data_df['Date'].dt.month\n",
    "data_df['Day'] = data_df['Date'].dt.day"
   ]
  },
  {
   "cell_type": "code",
   "execution_count": 136,
   "metadata": {},
   "outputs": [
    {
     "data": {
      "text/html": [
       "<div>\n",
       "<style scoped>\n",
       "    .dataframe tbody tr th:only-of-type {\n",
       "        vertical-align: middle;\n",
       "    }\n",
       "\n",
       "    .dataframe tbody tr th {\n",
       "        vertical-align: top;\n",
       "    }\n",
       "\n",
       "    .dataframe thead th {\n",
       "        text-align: right;\n",
       "    }\n",
       "</style>\n",
       "<table border=\"1\" class=\"dataframe\">\n",
       "  <thead>\n",
       "    <tr style=\"text-align: right;\">\n",
       "      <th></th>\n",
       "      <th>Location</th>\n",
       "      <th>MinTemp</th>\n",
       "      <th>MaxTemp</th>\n",
       "      <th>Rainfall</th>\n",
       "      <th>WindGustSpeed</th>\n",
       "      <th>WindSpeed9am</th>\n",
       "      <th>WindSpeed3pm</th>\n",
       "      <th>Humidity9am</th>\n",
       "      <th>Humidity3pm</th>\n",
       "      <th>Pressure9am</th>\n",
       "      <th>Pressure3pm</th>\n",
       "      <th>Cloud9am</th>\n",
       "      <th>Cloud3pm</th>\n",
       "      <th>Temp9am</th>\n",
       "      <th>Temp3pm</th>\n",
       "      <th>RainToday</th>\n",
       "      <th>RainTomorrow</th>\n",
       "      <th>Year</th>\n",
       "      <th>Month</th>\n",
       "      <th>Day</th>\n",
       "    </tr>\n",
       "  </thead>\n",
       "  <tbody>\n",
       "    <tr>\n",
       "      <th>4</th>\n",
       "      <td>Albury</td>\n",
       "      <td>17.5</td>\n",
       "      <td>32.3</td>\n",
       "      <td>1</td>\n",
       "      <td>41</td>\n",
       "      <td>7</td>\n",
       "      <td>20</td>\n",
       "      <td>82</td>\n",
       "      <td>33</td>\n",
       "      <td>1010.8</td>\n",
       "      <td>1006</td>\n",
       "      <td>7</td>\n",
       "      <td>8</td>\n",
       "      <td>17.8</td>\n",
       "      <td>29.7</td>\n",
       "      <td>No</td>\n",
       "      <td>No</td>\n",
       "      <td>2008</td>\n",
       "      <td>12</td>\n",
       "      <td>5</td>\n",
       "    </tr>\n",
       "    <tr>\n",
       "      <th>11</th>\n",
       "      <td>Albury</td>\n",
       "      <td>15.9</td>\n",
       "      <td>21.7</td>\n",
       "      <td>2.2</td>\n",
       "      <td>31</td>\n",
       "      <td>15</td>\n",
       "      <td>13</td>\n",
       "      <td>89</td>\n",
       "      <td>91</td>\n",
       "      <td>1010.5</td>\n",
       "      <td>1004.2</td>\n",
       "      <td>8</td>\n",
       "      <td>8</td>\n",
       "      <td>15.9</td>\n",
       "      <td>17</td>\n",
       "      <td>Yes</td>\n",
       "      <td>Yes</td>\n",
       "      <td>2008</td>\n",
       "      <td>12</td>\n",
       "      <td>12</td>\n",
       "    </tr>\n",
       "    <tr>\n",
       "      <th>12</th>\n",
       "      <td>Albury</td>\n",
       "      <td>15.9</td>\n",
       "      <td>18.6</td>\n",
       "      <td>15.6</td>\n",
       "      <td>61</td>\n",
       "      <td>28</td>\n",
       "      <td>28</td>\n",
       "      <td>76</td>\n",
       "      <td>93</td>\n",
       "      <td>994.3</td>\n",
       "      <td>993</td>\n",
       "      <td>8</td>\n",
       "      <td>8</td>\n",
       "      <td>17.4</td>\n",
       "      <td>15.8</td>\n",
       "      <td>Yes</td>\n",
       "      <td>Yes</td>\n",
       "      <td>2008</td>\n",
       "      <td>12</td>\n",
       "      <td>13</td>\n",
       "    </tr>\n",
       "    <tr>\n",
       "      <th>16</th>\n",
       "      <td>Albury</td>\n",
       "      <td>14.1</td>\n",
       "      <td>20.9</td>\n",
       "      <td>0</td>\n",
       "      <td>22</td>\n",
       "      <td>11</td>\n",
       "      <td>9</td>\n",
       "      <td>69</td>\n",
       "      <td>82</td>\n",
       "      <td>1012.2</td>\n",
       "      <td>1010.4</td>\n",
       "      <td>8</td>\n",
       "      <td>1</td>\n",
       "      <td>17.2</td>\n",
       "      <td>18.1</td>\n",
       "      <td>No</td>\n",
       "      <td>Yes</td>\n",
       "      <td>2008</td>\n",
       "      <td>12</td>\n",
       "      <td>17</td>\n",
       "    </tr>\n",
       "    <tr>\n",
       "      <th>17</th>\n",
       "      <td>Albury</td>\n",
       "      <td>13.5</td>\n",
       "      <td>22.9</td>\n",
       "      <td>16.8</td>\n",
       "      <td>63</td>\n",
       "      <td>6</td>\n",
       "      <td>20</td>\n",
       "      <td>80</td>\n",
       "      <td>65</td>\n",
       "      <td>1005.8</td>\n",
       "      <td>1002.2</td>\n",
       "      <td>8</td>\n",
       "      <td>1</td>\n",
       "      <td>18</td>\n",
       "      <td>21.5</td>\n",
       "      <td>Yes</td>\n",
       "      <td>Yes</td>\n",
       "      <td>2008</td>\n",
       "      <td>12</td>\n",
       "      <td>18</td>\n",
       "    </tr>\n",
       "  </tbody>\n",
       "</table>\n",
       "</div>"
      ],
      "text/plain": [
       "   Location MinTemp MaxTemp Rainfall WindGustSpeed WindSpeed9am WindSpeed3pm  \\\n",
       "4    Albury    17.5    32.3        1            41            7           20   \n",
       "11   Albury    15.9    21.7      2.2            31           15           13   \n",
       "12   Albury    15.9    18.6     15.6            61           28           28   \n",
       "16   Albury    14.1    20.9        0            22           11            9   \n",
       "17   Albury    13.5    22.9     16.8            63            6           20   \n",
       "\n",
       "   Humidity9am Humidity3pm Pressure9am Pressure3pm Cloud9am Cloud3pm Temp9am  \\\n",
       "4           82          33      1010.8        1006        7        8    17.8   \n",
       "11          89          91      1010.5      1004.2        8        8    15.9   \n",
       "12          76          93       994.3         993        8        8    17.4   \n",
       "16          69          82      1012.2      1010.4        8        1    17.2   \n",
       "17          80          65      1005.8      1002.2        8        1      18   \n",
       "\n",
       "   Temp3pm RainToday RainTomorrow  Year  Month  Day  \n",
       "4     29.7        No           No  2008     12    5  \n",
       "11      17       Yes          Yes  2008     12   12  \n",
       "12    15.8       Yes          Yes  2008     12   13  \n",
       "16    18.1        No          Yes  2008     12   17  \n",
       "17    21.5       Yes          Yes  2008     12   18  "
      ]
     },
     "execution_count": 136,
     "metadata": {},
     "output_type": "execute_result"
    }
   ],
   "source": [
    "data_df.drop('Date', axis=1, inplace = True)\n",
    "data_df.head(5)"
   ]
  },
  {
   "cell_type": "code",
   "execution_count": 137,
   "metadata": {},
   "outputs": [
    {
     "name": "stdout",
     "output_type": "stream",
     "text": [
      "<class 'pandas.core.frame.DataFrame'>\n",
      "Int64Index: 73411 entries, 4 to 145458\n",
      "Data columns (total 20 columns):\n",
      " #   Column         Non-Null Count  Dtype \n",
      "---  ------         --------------  ----- \n",
      " 0   Location       73411 non-null  object\n",
      " 1   MinTemp        73411 non-null  object\n",
      " 2   MaxTemp        73411 non-null  object\n",
      " 3   Rainfall       73411 non-null  object\n",
      " 4   WindGustSpeed  73411 non-null  object\n",
      " 5   WindSpeed9am   73411 non-null  object\n",
      " 6   WindSpeed3pm   73411 non-null  object\n",
      " 7   Humidity9am    73411 non-null  object\n",
      " 8   Humidity3pm    73411 non-null  object\n",
      " 9   Pressure9am    73411 non-null  object\n",
      " 10  Pressure3pm    73411 non-null  object\n",
      " 11  Cloud9am       73411 non-null  object\n",
      " 12  Cloud3pm       73411 non-null  object\n",
      " 13  Temp9am        73411 non-null  object\n",
      " 14  Temp3pm        73411 non-null  object\n",
      " 15  RainToday      73411 non-null  object\n",
      " 16  RainTomorrow   73411 non-null  object\n",
      " 17  Year           73411 non-null  int64 \n",
      " 18  Month          73411 non-null  int64 \n",
      " 19  Day            73411 non-null  int64 \n",
      "dtypes: int64(3), object(17)\n",
      "memory usage: 11.8+ MB\n"
     ]
    }
   ],
   "source": [
    "data_df.info()"
   ]
  },
  {
   "cell_type": "markdown",
   "metadata": {},
   "source": [
    "## step4: Encoding the 'RainToday' and 'RainTomorrow'"
   ]
  },
  {
   "cell_type": "code",
   "execution_count": 138,
   "metadata": {},
   "outputs": [
    {
     "data": {
      "text/plain": [
       "array(['No', 'Yes'], dtype=object)"
      ]
     },
     "execution_count": 138,
     "metadata": {},
     "output_type": "execute_result"
    }
   ],
   "source": [
    "# get the values that exist in 'RainToday'\n",
    "data_df.RainToday.unique()"
   ]
  },
  {
   "cell_type": "code",
   "execution_count": 139,
   "metadata": {},
   "outputs": [
    {
     "data": {
      "text/plain": [
       "array(['No', 'Yes'], dtype=object)"
      ]
     },
     "execution_count": 139,
     "metadata": {},
     "output_type": "execute_result"
    }
   ],
   "source": [
    "# get the values that exist in 'RainTomorrow'\n",
    "data_df.RainTomorrow.unique()"
   ]
  },
  {
   "cell_type": "code",
   "execution_count": 140,
   "metadata": {},
   "outputs": [
    {
     "data": {
      "text/html": [
       "<div>\n",
       "<style scoped>\n",
       "    .dataframe tbody tr th:only-of-type {\n",
       "        vertical-align: middle;\n",
       "    }\n",
       "\n",
       "    .dataframe tbody tr th {\n",
       "        vertical-align: top;\n",
       "    }\n",
       "\n",
       "    .dataframe thead th {\n",
       "        text-align: right;\n",
       "    }\n",
       "</style>\n",
       "<table border=\"1\" class=\"dataframe\">\n",
       "  <thead>\n",
       "    <tr style=\"text-align: right;\">\n",
       "      <th></th>\n",
       "      <th>Location</th>\n",
       "      <th>MinTemp</th>\n",
       "      <th>MaxTemp</th>\n",
       "      <th>Rainfall</th>\n",
       "      <th>WindGustSpeed</th>\n",
       "      <th>WindSpeed9am</th>\n",
       "      <th>WindSpeed3pm</th>\n",
       "      <th>Humidity9am</th>\n",
       "      <th>Humidity3pm</th>\n",
       "      <th>Pressure9am</th>\n",
       "      <th>Pressure3pm</th>\n",
       "      <th>Cloud9am</th>\n",
       "      <th>Cloud3pm</th>\n",
       "      <th>Temp9am</th>\n",
       "      <th>Temp3pm</th>\n",
       "      <th>RainToday</th>\n",
       "      <th>RainTomorrow</th>\n",
       "      <th>Year</th>\n",
       "      <th>Month</th>\n",
       "      <th>Day</th>\n",
       "    </tr>\n",
       "  </thead>\n",
       "  <tbody>\n",
       "    <tr>\n",
       "      <th>4</th>\n",
       "      <td>Albury</td>\n",
       "      <td>17.5</td>\n",
       "      <td>32.3</td>\n",
       "      <td>1</td>\n",
       "      <td>41</td>\n",
       "      <td>7</td>\n",
       "      <td>20</td>\n",
       "      <td>82</td>\n",
       "      <td>33</td>\n",
       "      <td>1010.8</td>\n",
       "      <td>1006</td>\n",
       "      <td>7</td>\n",
       "      <td>8</td>\n",
       "      <td>17.8</td>\n",
       "      <td>29.7</td>\n",
       "      <td>0</td>\n",
       "      <td>0</td>\n",
       "      <td>2008</td>\n",
       "      <td>12</td>\n",
       "      <td>5</td>\n",
       "    </tr>\n",
       "    <tr>\n",
       "      <th>11</th>\n",
       "      <td>Albury</td>\n",
       "      <td>15.9</td>\n",
       "      <td>21.7</td>\n",
       "      <td>2.2</td>\n",
       "      <td>31</td>\n",
       "      <td>15</td>\n",
       "      <td>13</td>\n",
       "      <td>89</td>\n",
       "      <td>91</td>\n",
       "      <td>1010.5</td>\n",
       "      <td>1004.2</td>\n",
       "      <td>8</td>\n",
       "      <td>8</td>\n",
       "      <td>15.9</td>\n",
       "      <td>17</td>\n",
       "      <td>1</td>\n",
       "      <td>1</td>\n",
       "      <td>2008</td>\n",
       "      <td>12</td>\n",
       "      <td>12</td>\n",
       "    </tr>\n",
       "    <tr>\n",
       "      <th>12</th>\n",
       "      <td>Albury</td>\n",
       "      <td>15.9</td>\n",
       "      <td>18.6</td>\n",
       "      <td>15.6</td>\n",
       "      <td>61</td>\n",
       "      <td>28</td>\n",
       "      <td>28</td>\n",
       "      <td>76</td>\n",
       "      <td>93</td>\n",
       "      <td>994.3</td>\n",
       "      <td>993</td>\n",
       "      <td>8</td>\n",
       "      <td>8</td>\n",
       "      <td>17.4</td>\n",
       "      <td>15.8</td>\n",
       "      <td>1</td>\n",
       "      <td>1</td>\n",
       "      <td>2008</td>\n",
       "      <td>12</td>\n",
       "      <td>13</td>\n",
       "    </tr>\n",
       "    <tr>\n",
       "      <th>16</th>\n",
       "      <td>Albury</td>\n",
       "      <td>14.1</td>\n",
       "      <td>20.9</td>\n",
       "      <td>0</td>\n",
       "      <td>22</td>\n",
       "      <td>11</td>\n",
       "      <td>9</td>\n",
       "      <td>69</td>\n",
       "      <td>82</td>\n",
       "      <td>1012.2</td>\n",
       "      <td>1010.4</td>\n",
       "      <td>8</td>\n",
       "      <td>1</td>\n",
       "      <td>17.2</td>\n",
       "      <td>18.1</td>\n",
       "      <td>0</td>\n",
       "      <td>1</td>\n",
       "      <td>2008</td>\n",
       "      <td>12</td>\n",
       "      <td>17</td>\n",
       "    </tr>\n",
       "    <tr>\n",
       "      <th>17</th>\n",
       "      <td>Albury</td>\n",
       "      <td>13.5</td>\n",
       "      <td>22.9</td>\n",
       "      <td>16.8</td>\n",
       "      <td>63</td>\n",
       "      <td>6</td>\n",
       "      <td>20</td>\n",
       "      <td>80</td>\n",
       "      <td>65</td>\n",
       "      <td>1005.8</td>\n",
       "      <td>1002.2</td>\n",
       "      <td>8</td>\n",
       "      <td>1</td>\n",
       "      <td>18</td>\n",
       "      <td>21.5</td>\n",
       "      <td>1</td>\n",
       "      <td>1</td>\n",
       "      <td>2008</td>\n",
       "      <td>12</td>\n",
       "      <td>18</td>\n",
       "    </tr>\n",
       "  </tbody>\n",
       "</table>\n",
       "</div>"
      ],
      "text/plain": [
       "   Location MinTemp MaxTemp Rainfall WindGustSpeed WindSpeed9am WindSpeed3pm  \\\n",
       "4    Albury    17.5    32.3        1            41            7           20   \n",
       "11   Albury    15.9    21.7      2.2            31           15           13   \n",
       "12   Albury    15.9    18.6     15.6            61           28           28   \n",
       "16   Albury    14.1    20.9        0            22           11            9   \n",
       "17   Albury    13.5    22.9     16.8            63            6           20   \n",
       "\n",
       "   Humidity9am Humidity3pm Pressure9am Pressure3pm Cloud9am Cloud3pm Temp9am  \\\n",
       "4           82          33      1010.8        1006        7        8    17.8   \n",
       "11          89          91      1010.5      1004.2        8        8    15.9   \n",
       "12          76          93       994.3         993        8        8    17.4   \n",
       "16          69          82      1012.2      1010.4        8        1    17.2   \n",
       "17          80          65      1005.8      1002.2        8        1      18   \n",
       "\n",
       "   Temp3pm  RainToday  RainTomorrow  Year  Month  Day  \n",
       "4     29.7          0             0  2008     12    5  \n",
       "11      17          1             1  2008     12   12  \n",
       "12    15.8          1             1  2008     12   13  \n",
       "16    18.1          0             1  2008     12   17  \n",
       "17    21.5          1             1  2008     12   18  "
      ]
     },
     "execution_count": 140,
     "metadata": {},
     "output_type": "execute_result"
    }
   ],
   "source": [
    "dictionary = {'No': 0, 'Yes': 1}\n",
    "data_df['RainToday'] = data_df['RainToday'].map(dictionary)\n",
    "data_df['RainTomorrow'] = data_df['RainTomorrow'].map(dictionary)\n",
    "data_df.head(5)"
   ]
  },
  {
   "cell_type": "code",
   "execution_count": 141,
   "metadata": {},
   "outputs": [
    {
     "name": "stdout",
     "output_type": "stream",
     "text": [
      "<class 'pandas.core.frame.DataFrame'>\n",
      "Int64Index: 73411 entries, 4 to 145458\n",
      "Data columns (total 20 columns):\n",
      " #   Column         Non-Null Count  Dtype \n",
      "---  ------         --------------  ----- \n",
      " 0   Location       73411 non-null  object\n",
      " 1   MinTemp        73411 non-null  object\n",
      " 2   MaxTemp        73411 non-null  object\n",
      " 3   Rainfall       73411 non-null  object\n",
      " 4   WindGustSpeed  73411 non-null  object\n",
      " 5   WindSpeed9am   73411 non-null  object\n",
      " 6   WindSpeed3pm   73411 non-null  object\n",
      " 7   Humidity9am    73411 non-null  object\n",
      " 8   Humidity3pm    73411 non-null  object\n",
      " 9   Pressure9am    73411 non-null  object\n",
      " 10  Pressure3pm    73411 non-null  object\n",
      " 11  Cloud9am       73411 non-null  object\n",
      " 12  Cloud3pm       73411 non-null  object\n",
      " 13  Temp9am        73411 non-null  object\n",
      " 14  Temp3pm        73411 non-null  object\n",
      " 15  RainToday      73411 non-null  int64 \n",
      " 16  RainTomorrow   73411 non-null  int64 \n",
      " 17  Year           73411 non-null  int64 \n",
      " 18  Month          73411 non-null  int64 \n",
      " 19  Day            73411 non-null  int64 \n",
      "dtypes: int64(5), object(15)\n",
      "memory usage: 11.8+ MB\n"
     ]
    }
   ],
   "source": [
    "data_df.info()"
   ]
  },
  {
   "cell_type": "markdown",
   "metadata": {},
   "source": [
    "## Step5: Change the rest attributes (Except the 'location')  into numeric data "
   ]
  },
  {
   "cell_type": "code",
   "execution_count": 142,
   "metadata": {},
   "outputs": [],
   "source": [
    "columns_numeric = [\"MinTemp\",\"MaxTemp\",\n",
    "            \"Rainfall\",\"WindGustSpeed\",\"WindSpeed9am\",\"WindSpeed3pm\",\n",
    "            \"Humidity9am\", \"Humidity3pm\",\"Pressure9am\",\n",
    "            \"Pressure3pm\", \"Cloud9am\",\"Cloud3pm\",\"Temp9am\", \"Temp3pm\"\n",
    "]\n",
    "for i in columns_numeric:\n",
    "    data_df[i] = pd.to_numeric(data_df[i])"
   ]
  },
  {
   "cell_type": "code",
   "execution_count": 143,
   "metadata": {},
   "outputs": [
    {
     "data": {
      "text/html": [
       "<div>\n",
       "<style scoped>\n",
       "    .dataframe tbody tr th:only-of-type {\n",
       "        vertical-align: middle;\n",
       "    }\n",
       "\n",
       "    .dataframe tbody tr th {\n",
       "        vertical-align: top;\n",
       "    }\n",
       "\n",
       "    .dataframe thead th {\n",
       "        text-align: right;\n",
       "    }\n",
       "</style>\n",
       "<table border=\"1\" class=\"dataframe\">\n",
       "  <thead>\n",
       "    <tr style=\"text-align: right;\">\n",
       "      <th></th>\n",
       "      <th>Location</th>\n",
       "      <th>MinTemp</th>\n",
       "      <th>MaxTemp</th>\n",
       "      <th>Rainfall</th>\n",
       "      <th>WindGustSpeed</th>\n",
       "      <th>WindSpeed9am</th>\n",
       "      <th>WindSpeed3pm</th>\n",
       "      <th>Humidity9am</th>\n",
       "      <th>Humidity3pm</th>\n",
       "      <th>Pressure9am</th>\n",
       "      <th>Pressure3pm</th>\n",
       "      <th>Cloud9am</th>\n",
       "      <th>Cloud3pm</th>\n",
       "      <th>Temp9am</th>\n",
       "      <th>Temp3pm</th>\n",
       "      <th>RainToday</th>\n",
       "      <th>RainTomorrow</th>\n",
       "      <th>Year</th>\n",
       "      <th>Month</th>\n",
       "      <th>Day</th>\n",
       "    </tr>\n",
       "  </thead>\n",
       "  <tbody>\n",
       "    <tr>\n",
       "      <th>4</th>\n",
       "      <td>Albury</td>\n",
       "      <td>17.5</td>\n",
       "      <td>32.3</td>\n",
       "      <td>1.0</td>\n",
       "      <td>41</td>\n",
       "      <td>7</td>\n",
       "      <td>20</td>\n",
       "      <td>82</td>\n",
       "      <td>33</td>\n",
       "      <td>1010.8</td>\n",
       "      <td>1006.0</td>\n",
       "      <td>7</td>\n",
       "      <td>8</td>\n",
       "      <td>17.8</td>\n",
       "      <td>29.7</td>\n",
       "      <td>0</td>\n",
       "      <td>0</td>\n",
       "      <td>2008</td>\n",
       "      <td>12</td>\n",
       "      <td>5</td>\n",
       "    </tr>\n",
       "    <tr>\n",
       "      <th>11</th>\n",
       "      <td>Albury</td>\n",
       "      <td>15.9</td>\n",
       "      <td>21.7</td>\n",
       "      <td>2.2</td>\n",
       "      <td>31</td>\n",
       "      <td>15</td>\n",
       "      <td>13</td>\n",
       "      <td>89</td>\n",
       "      <td>91</td>\n",
       "      <td>1010.5</td>\n",
       "      <td>1004.2</td>\n",
       "      <td>8</td>\n",
       "      <td>8</td>\n",
       "      <td>15.9</td>\n",
       "      <td>17.0</td>\n",
       "      <td>1</td>\n",
       "      <td>1</td>\n",
       "      <td>2008</td>\n",
       "      <td>12</td>\n",
       "      <td>12</td>\n",
       "    </tr>\n",
       "    <tr>\n",
       "      <th>12</th>\n",
       "      <td>Albury</td>\n",
       "      <td>15.9</td>\n",
       "      <td>18.6</td>\n",
       "      <td>15.6</td>\n",
       "      <td>61</td>\n",
       "      <td>28</td>\n",
       "      <td>28</td>\n",
       "      <td>76</td>\n",
       "      <td>93</td>\n",
       "      <td>994.3</td>\n",
       "      <td>993.0</td>\n",
       "      <td>8</td>\n",
       "      <td>8</td>\n",
       "      <td>17.4</td>\n",
       "      <td>15.8</td>\n",
       "      <td>1</td>\n",
       "      <td>1</td>\n",
       "      <td>2008</td>\n",
       "      <td>12</td>\n",
       "      <td>13</td>\n",
       "    </tr>\n",
       "    <tr>\n",
       "      <th>16</th>\n",
       "      <td>Albury</td>\n",
       "      <td>14.1</td>\n",
       "      <td>20.9</td>\n",
       "      <td>0.0</td>\n",
       "      <td>22</td>\n",
       "      <td>11</td>\n",
       "      <td>9</td>\n",
       "      <td>69</td>\n",
       "      <td>82</td>\n",
       "      <td>1012.2</td>\n",
       "      <td>1010.4</td>\n",
       "      <td>8</td>\n",
       "      <td>1</td>\n",
       "      <td>17.2</td>\n",
       "      <td>18.1</td>\n",
       "      <td>0</td>\n",
       "      <td>1</td>\n",
       "      <td>2008</td>\n",
       "      <td>12</td>\n",
       "      <td>17</td>\n",
       "    </tr>\n",
       "    <tr>\n",
       "      <th>17</th>\n",
       "      <td>Albury</td>\n",
       "      <td>13.5</td>\n",
       "      <td>22.9</td>\n",
       "      <td>16.8</td>\n",
       "      <td>63</td>\n",
       "      <td>6</td>\n",
       "      <td>20</td>\n",
       "      <td>80</td>\n",
       "      <td>65</td>\n",
       "      <td>1005.8</td>\n",
       "      <td>1002.2</td>\n",
       "      <td>8</td>\n",
       "      <td>1</td>\n",
       "      <td>18.0</td>\n",
       "      <td>21.5</td>\n",
       "      <td>1</td>\n",
       "      <td>1</td>\n",
       "      <td>2008</td>\n",
       "      <td>12</td>\n",
       "      <td>18</td>\n",
       "    </tr>\n",
       "  </tbody>\n",
       "</table>\n",
       "</div>"
      ],
      "text/plain": [
       "   Location  MinTemp  MaxTemp  Rainfall  WindGustSpeed  WindSpeed9am  \\\n",
       "4    Albury     17.5     32.3       1.0             41             7   \n",
       "11   Albury     15.9     21.7       2.2             31            15   \n",
       "12   Albury     15.9     18.6      15.6             61            28   \n",
       "16   Albury     14.1     20.9       0.0             22            11   \n",
       "17   Albury     13.5     22.9      16.8             63             6   \n",
       "\n",
       "    WindSpeed3pm  Humidity9am  Humidity3pm  Pressure9am  Pressure3pm  \\\n",
       "4             20           82           33       1010.8       1006.0   \n",
       "11            13           89           91       1010.5       1004.2   \n",
       "12            28           76           93        994.3        993.0   \n",
       "16             9           69           82       1012.2       1010.4   \n",
       "17            20           80           65       1005.8       1002.2   \n",
       "\n",
       "    Cloud9am  Cloud3pm  Temp9am  Temp3pm  RainToday  RainTomorrow  Year  \\\n",
       "4          7         8     17.8     29.7          0             0  2008   \n",
       "11         8         8     15.9     17.0          1             1  2008   \n",
       "12         8         8     17.4     15.8          1             1  2008   \n",
       "16         8         1     17.2     18.1          0             1  2008   \n",
       "17         8         1     18.0     21.5          1             1  2008   \n",
       "\n",
       "    Month  Day  \n",
       "4      12    5  \n",
       "11     12   12  \n",
       "12     12   13  \n",
       "16     12   17  \n",
       "17     12   18  "
      ]
     },
     "execution_count": 143,
     "metadata": {},
     "output_type": "execute_result"
    }
   ],
   "source": [
    "data_df.head(5)"
   ]
  },
  {
   "cell_type": "code",
   "execution_count": 144,
   "metadata": {},
   "outputs": [
    {
     "name": "stdout",
     "output_type": "stream",
     "text": [
      "<class 'pandas.core.frame.DataFrame'>\n",
      "Int64Index: 73411 entries, 4 to 145458\n",
      "Data columns (total 20 columns):\n",
      " #   Column         Non-Null Count  Dtype  \n",
      "---  ------         --------------  -----  \n",
      " 0   Location       73411 non-null  object \n",
      " 1   MinTemp        73411 non-null  float64\n",
      " 2   MaxTemp        73411 non-null  float64\n",
      " 3   Rainfall       73411 non-null  float64\n",
      " 4   WindGustSpeed  73411 non-null  int64  \n",
      " 5   WindSpeed9am   73411 non-null  int64  \n",
      " 6   WindSpeed3pm   73411 non-null  int64  \n",
      " 7   Humidity9am    73411 non-null  int64  \n",
      " 8   Humidity3pm    73411 non-null  int64  \n",
      " 9   Pressure9am    73411 non-null  float64\n",
      " 10  Pressure3pm    73411 non-null  float64\n",
      " 11  Cloud9am       73411 non-null  int64  \n",
      " 12  Cloud3pm       73411 non-null  int64  \n",
      " 13  Temp9am        73411 non-null  float64\n",
      " 14  Temp3pm        73411 non-null  float64\n",
      " 15  RainToday      73411 non-null  int64  \n",
      " 16  RainTomorrow   73411 non-null  int64  \n",
      " 17  Year           73411 non-null  int64  \n",
      " 18  Month          73411 non-null  int64  \n",
      " 19  Day            73411 non-null  int64  \n",
      "dtypes: float64(7), int64(12), object(1)\n",
      "memory usage: 11.8+ MB\n"
     ]
    }
   ],
   "source": [
    "data_df.info()"
   ]
  },
  {
   "cell_type": "markdown",
   "metadata": {},
   "source": [
    "* Now there only the 'location' is object type.The other attributes are all became into numeric data."
   ]
  },
  {
   "cell_type": "markdown",
   "metadata": {},
   "source": [
    "## step4: Encode the 'Location' "
   ]
  },
  {
   "cell_type": "code",
   "execution_count": 145,
   "metadata": {},
   "outputs": [
    {
     "data": {
      "text/plain": [
       "array(['Albury', 'Cobar', 'CoffsHarbour', 'Moree', 'NorfolkIsland',\n",
       "       'Richmond', 'Sydney', 'SydneyAirport', 'WaggaWagga', 'Williamtown',\n",
       "       'Wollongong', 'Canberra', 'Ballarat', 'Bendigo', 'Sale',\n",
       "       'MelbourneAirport', 'Melbourne', 'Mildura', 'Portland', 'Watsonia',\n",
       "       'Brisbane', 'Cairns', 'Townsville', 'MountGambier', 'Nuriootpa',\n",
       "       'Woomera', 'PearceRAAF', 'PerthAirport', 'Perth', 'Hobart',\n",
       "       'AliceSprings', 'Darwin', 'Katherine', 'Uluru'], dtype=object)"
      ]
     },
     "execution_count": 145,
     "metadata": {},
     "output_type": "execute_result"
    }
   ],
   "source": [
    "# get the values that exist in 'location'\n",
    "data_df.Location.unique()"
   ]
  },
  {
   "cell_type": "code",
   "execution_count": 146,
   "metadata": {},
   "outputs": [],
   "source": [
    "columns_data = [\"MinTemp\",\"MaxTemp\",\n",
    "            \"Rainfall\",\"WindGustSpeed\",\"WindSpeed9am\",\"WindSpeed3pm\",\n",
    "            \"Humidity9am\", \"Humidity3pm\",\"Pressure9am\",\n",
    "            \"Pressure3pm\", \"Cloud9am\",\"Cloud3pm\",\"Temp9am\", \"Temp3pm\",\"RainToday\", \n",
    "            \"RainTomorrow\",'Year','Month','Day']"
   ]
  },
  {
   "cell_type": "code",
   "execution_count": 147,
   "metadata": {},
   "outputs": [],
   "source": [
    "data_df = pd.concat([data_df[columns_data],\n",
    "                     pd.get_dummies(data_df.Location)], axis=1)"
   ]
  },
  {
   "cell_type": "code",
   "execution_count": 148,
   "metadata": {},
   "outputs": [
    {
     "data": {
      "text/html": [
       "<div>\n",
       "<style scoped>\n",
       "    .dataframe tbody tr th:only-of-type {\n",
       "        vertical-align: middle;\n",
       "    }\n",
       "\n",
       "    .dataframe tbody tr th {\n",
       "        vertical-align: top;\n",
       "    }\n",
       "\n",
       "    .dataframe thead th {\n",
       "        text-align: right;\n",
       "    }\n",
       "</style>\n",
       "<table border=\"1\" class=\"dataframe\">\n",
       "  <thead>\n",
       "    <tr style=\"text-align: right;\">\n",
       "      <th></th>\n",
       "      <th>MinTemp</th>\n",
       "      <th>MaxTemp</th>\n",
       "      <th>Rainfall</th>\n",
       "      <th>WindGustSpeed</th>\n",
       "      <th>WindSpeed9am</th>\n",
       "      <th>WindSpeed3pm</th>\n",
       "      <th>Humidity9am</th>\n",
       "      <th>Humidity3pm</th>\n",
       "      <th>Pressure9am</th>\n",
       "      <th>Pressure3pm</th>\n",
       "      <th>...</th>\n",
       "      <th>Sale</th>\n",
       "      <th>Sydney</th>\n",
       "      <th>SydneyAirport</th>\n",
       "      <th>Townsville</th>\n",
       "      <th>Uluru</th>\n",
       "      <th>WaggaWagga</th>\n",
       "      <th>Watsonia</th>\n",
       "      <th>Williamtown</th>\n",
       "      <th>Wollongong</th>\n",
       "      <th>Woomera</th>\n",
       "    </tr>\n",
       "  </thead>\n",
       "  <tbody>\n",
       "    <tr>\n",
       "      <th>4</th>\n",
       "      <td>17.5</td>\n",
       "      <td>32.3</td>\n",
       "      <td>1.0</td>\n",
       "      <td>41</td>\n",
       "      <td>7</td>\n",
       "      <td>20</td>\n",
       "      <td>82</td>\n",
       "      <td>33</td>\n",
       "      <td>1010.8</td>\n",
       "      <td>1006.0</td>\n",
       "      <td>...</td>\n",
       "      <td>0</td>\n",
       "      <td>0</td>\n",
       "      <td>0</td>\n",
       "      <td>0</td>\n",
       "      <td>0</td>\n",
       "      <td>0</td>\n",
       "      <td>0</td>\n",
       "      <td>0</td>\n",
       "      <td>0</td>\n",
       "      <td>0</td>\n",
       "    </tr>\n",
       "    <tr>\n",
       "      <th>11</th>\n",
       "      <td>15.9</td>\n",
       "      <td>21.7</td>\n",
       "      <td>2.2</td>\n",
       "      <td>31</td>\n",
       "      <td>15</td>\n",
       "      <td>13</td>\n",
       "      <td>89</td>\n",
       "      <td>91</td>\n",
       "      <td>1010.5</td>\n",
       "      <td>1004.2</td>\n",
       "      <td>...</td>\n",
       "      <td>0</td>\n",
       "      <td>0</td>\n",
       "      <td>0</td>\n",
       "      <td>0</td>\n",
       "      <td>0</td>\n",
       "      <td>0</td>\n",
       "      <td>0</td>\n",
       "      <td>0</td>\n",
       "      <td>0</td>\n",
       "      <td>0</td>\n",
       "    </tr>\n",
       "    <tr>\n",
       "      <th>12</th>\n",
       "      <td>15.9</td>\n",
       "      <td>18.6</td>\n",
       "      <td>15.6</td>\n",
       "      <td>61</td>\n",
       "      <td>28</td>\n",
       "      <td>28</td>\n",
       "      <td>76</td>\n",
       "      <td>93</td>\n",
       "      <td>994.3</td>\n",
       "      <td>993.0</td>\n",
       "      <td>...</td>\n",
       "      <td>0</td>\n",
       "      <td>0</td>\n",
       "      <td>0</td>\n",
       "      <td>0</td>\n",
       "      <td>0</td>\n",
       "      <td>0</td>\n",
       "      <td>0</td>\n",
       "      <td>0</td>\n",
       "      <td>0</td>\n",
       "      <td>0</td>\n",
       "    </tr>\n",
       "    <tr>\n",
       "      <th>16</th>\n",
       "      <td>14.1</td>\n",
       "      <td>20.9</td>\n",
       "      <td>0.0</td>\n",
       "      <td>22</td>\n",
       "      <td>11</td>\n",
       "      <td>9</td>\n",
       "      <td>69</td>\n",
       "      <td>82</td>\n",
       "      <td>1012.2</td>\n",
       "      <td>1010.4</td>\n",
       "      <td>...</td>\n",
       "      <td>0</td>\n",
       "      <td>0</td>\n",
       "      <td>0</td>\n",
       "      <td>0</td>\n",
       "      <td>0</td>\n",
       "      <td>0</td>\n",
       "      <td>0</td>\n",
       "      <td>0</td>\n",
       "      <td>0</td>\n",
       "      <td>0</td>\n",
       "    </tr>\n",
       "    <tr>\n",
       "      <th>17</th>\n",
       "      <td>13.5</td>\n",
       "      <td>22.9</td>\n",
       "      <td>16.8</td>\n",
       "      <td>63</td>\n",
       "      <td>6</td>\n",
       "      <td>20</td>\n",
       "      <td>80</td>\n",
       "      <td>65</td>\n",
       "      <td>1005.8</td>\n",
       "      <td>1002.2</td>\n",
       "      <td>...</td>\n",
       "      <td>0</td>\n",
       "      <td>0</td>\n",
       "      <td>0</td>\n",
       "      <td>0</td>\n",
       "      <td>0</td>\n",
       "      <td>0</td>\n",
       "      <td>0</td>\n",
       "      <td>0</td>\n",
       "      <td>0</td>\n",
       "      <td>0</td>\n",
       "    </tr>\n",
       "  </tbody>\n",
       "</table>\n",
       "<p>5 rows × 53 columns</p>\n",
       "</div>"
      ],
      "text/plain": [
       "    MinTemp  MaxTemp  Rainfall  WindGustSpeed  WindSpeed9am  WindSpeed3pm  \\\n",
       "4      17.5     32.3       1.0             41             7            20   \n",
       "11     15.9     21.7       2.2             31            15            13   \n",
       "12     15.9     18.6      15.6             61            28            28   \n",
       "16     14.1     20.9       0.0             22            11             9   \n",
       "17     13.5     22.9      16.8             63             6            20   \n",
       "\n",
       "    Humidity9am  Humidity3pm  Pressure9am  Pressure3pm  ...  Sale  Sydney  \\\n",
       "4            82           33       1010.8       1006.0  ...     0       0   \n",
       "11           89           91       1010.5       1004.2  ...     0       0   \n",
       "12           76           93        994.3        993.0  ...     0       0   \n",
       "16           69           82       1012.2       1010.4  ...     0       0   \n",
       "17           80           65       1005.8       1002.2  ...     0       0   \n",
       "\n",
       "    SydneyAirport  Townsville  Uluru  WaggaWagga  Watsonia  Williamtown  \\\n",
       "4               0           0      0           0         0            0   \n",
       "11              0           0      0           0         0            0   \n",
       "12              0           0      0           0         0            0   \n",
       "16              0           0      0           0         0            0   \n",
       "17              0           0      0           0         0            0   \n",
       "\n",
       "    Wollongong  Woomera  \n",
       "4            0        0  \n",
       "11           0        0  \n",
       "12           0        0  \n",
       "16           0        0  \n",
       "17           0        0  \n",
       "\n",
       "[5 rows x 53 columns]"
      ]
     },
     "execution_count": 148,
     "metadata": {},
     "output_type": "execute_result"
    }
   ],
   "source": [
    "data_df.head(5)"
   ]
  },
  {
   "cell_type": "markdown",
   "metadata": {},
   "source": [
    "# Analysis data"
   ]
  },
  {
   "cell_type": "markdown",
   "metadata": {},
   "source": [
    "## Univariate Analysis"
   ]
  },
  {
   "cell_type": "markdown",
   "metadata": {},
   "source": [
    "### (1) Use Histogram to show the frequency of 'No' or 'Yes' of `RainTomorrow`"
   ]
  },
  {
   "cell_type": "code",
   "execution_count": 149,
   "metadata": {},
   "outputs": [
    {
     "data": {
      "text/plain": [
       "<seaborn.axisgrid.FacetGrid at 0x7f360f45ba00>"
      ]
     },
     "execution_count": 149,
     "metadata": {},
     "output_type": "execute_result"
    },
    {
     "data": {
      "image/png": "[encoded data removed]",
      "text/plain": [
       "<Figure size 360x360 with 1 Axes>"
      ]
     },
     "metadata": {
      "needs_background": "light"
     },
     "output_type": "display_data"
    }
   ],
   "source": [
    "#'No': 0, 'Yes': 1\n",
    "sns.catplot(x=\"RainTomorrow\", data=data_df, kind='count',palette=\"Set2\")"
   ]
  },
  {
   "cell_type": "code",
   "execution_count": 150,
   "metadata": {},
   "outputs": [
    {
     "data": {
      "text/plain": [
       "0    0.765131\n",
       "1    0.234869\n",
       "Name: RainTomorrow, dtype: float64"
      ]
     },
     "execution_count": 150,
     "metadata": {},
     "output_type": "execute_result"
    }
   ],
   "source": [
    "data_df['RainTomorrow'].value_counts()/len(data_df)"
   ]
  },
  {
   "cell_type": "markdown",
   "metadata": {},
   "source": [
    "We can see that`'No' : 0 ` appears 76.5% , and `'Yes' : 1` appears 23.5% times."
   ]
  },
  {
   "cell_type": "markdown",
   "metadata": {},
   "source": [
    "##  Use heatmap to show the correlation between each variables "
   ]
  },
  {
   "cell_type": "code",
   "execution_count": 151,
   "metadata": {},
   "outputs": [],
   "source": [
    "correlation = data_df[[\"MinTemp\",\"MaxTemp\",\n",
    "            \"Rainfall\",\"WindGustSpeed\",\"WindSpeed9am\",\"WindSpeed3pm\",\n",
    "            \"Humidity9am\", \"Humidity3pm\",\"Pressure9am\",\n",
    "            \"Pressure3pm\", \"Cloud9am\",\"Cloud3pm\",\"Temp9am\", \"Temp3pm\",\"RainToday\", \n",
    "            \"RainTomorrow\"]].corr()"
   ]
  },
  {
   "cell_type": "code",
   "execution_count": 152,
   "metadata": {},
   "outputs": [
    {
     "data": {
      "text/plain": [
       "<AxesSubplot:title={'center':'Correlation Heatmap of wheather in Australia'}>"
      ]
     },
     "execution_count": 152,
     "metadata": {},
     "output_type": "execute_result"
    },
    {
     "data": {
      "image/png": "[encoded data removed]",
      "text/plain": [
       "<Figure size 1152x1152 with 2 Axes>"
      ]
     },
     "metadata": {
      "needs_background": "light"
     },
     "output_type": "display_data"
    }
   ],
   "source": [
    "plt.subplots(figsize = (16,16))\n",
    "plt.title('Correlation Heatmap of wheather in Australia')\n",
    "sns.heatmap(correlation,annot = True,vmax = 1,square = True,cmap = \"Reds\",linecolor='white')"
   ]
  },
  {
   "cell_type": "markdown",
   "metadata": {},
   "source": [
    "## As can be seen from the figure:\n",
    "\n",
    "### observation:\n",
    "* `MaxTemp` and `Temp3pm` variables are also `strongly positively` correlated (correlation coefficient = 0.99).\n",
    "\n",
    "* `Pressure9am` and `Pressure3pm` variables are `strongly positively` correlated (correlation coefficient = 0.96).\n",
    "\n",
    "* `MinTemp` and `Temp9am` variables are also `strongly positively` correlated (correlation coefficient = 0.91).\n",
    "\n",
    "* `MaxTemp` and `Temp9am` variables are `strongly positively` correlated (correlation coefficient = 0.9).\n",
    "\n",
    "* `Temp3pm` and `Temp9am` variables are `strongly positively` correlated (correlation coefficient = 0.88).\n",
    "\n",
    "* `MinTemp` and `MaxTemp` variables are `highly positively` correlated (correlation coefficient = 0.76).\n",
    "\n",
    "* `MinTemp` and `Temp3am` variables are `highly positively` correlated (correlation coefficient = 0.74).\n",
    "\n",
    "* `Humidity3pm` and `Humidity9pm` variables are `highly positively` correlated (correlation coefficient = 0.7).\n",
    "\n",
    "* `RainTomorrow` and `Rainfall`,`WindGustSpeed`,`Humidity9am`, `Humidity3pm`, `Cloud9am`,`Cloud3pm`,`RainTomorrow` have relativaly median  correlation"
   ]
  },
  {
   "cell_type": "markdown",
   "metadata": {},
   "source": [
    "# `Regression`"
   ]
  },
  {
   "cell_type": "markdown",
   "metadata": {},
   "source": [
    "## Use the `linear Regression` Model"
   ]
  },
  {
   "cell_type": "markdown",
   "metadata": {},
   "source": [
    "## Step1: Get the data that we need"
   ]
  },
  {
   "cell_type": "code",
   "execution_count": 153,
   "metadata": {},
   "outputs": [],
   "source": [
    "lr_df = data_df[[\"MaxTemp\", \"MinTemp\",\"Temp3pm\",\"Temp9am\"]]"
   ]
  },
  {
   "cell_type": "code",
   "execution_count": 154,
   "metadata": {},
   "outputs": [],
   "source": [
    "spark = SparkSession.builder.getOrCreate()\n",
    "lr_dfspark = spark.createDataFrame(lr_df)"
   ]
  },
  {
   "cell_type": "code",
   "execution_count": 155,
   "metadata": {},
   "outputs": [
    {
     "name": "stdout",
     "output_type": "stream",
     "text": [
      "root\n",
      " |-- MaxTemp: double (nullable = true)\n",
      " |-- MinTemp: double (nullable = true)\n",
      " |-- Temp3pm: double (nullable = true)\n",
      " |-- Temp9am: double (nullable = true)\n",
      "\n"
     ]
    }
   ],
   "source": [
    "lr_dfspark.printSchema() "
   ]
  },
  {
   "cell_type": "code",
   "execution_count": 156,
   "metadata": {},
   "outputs": [
    {
     "name": "stdout",
     "output_type": "stream",
     "text": [
      "+-------+-------+-------+-------+\n",
      "|MaxTemp|MinTemp|Temp3pm|Temp9am|\n",
      "+-------+-------+-------+-------+\n",
      "|   32.3|   17.5|   29.7|   17.8|\n",
      "|   21.7|   15.9|   17.0|   15.9|\n",
      "|   18.6|   15.9|   15.8|   17.4|\n",
      "+-------+-------+-------+-------+\n",
      "only showing top 3 rows\n",
      "\n"
     ]
    }
   ],
   "source": [
    "lr_dfspark.show(3)"
   ]
  },
  {
   "cell_type": "code",
   "execution_count": 157,
   "metadata": {},
   "outputs": [
    {
     "name": "stdout",
     "output_type": "stream",
     "text": [
      "+-------+-------+-------+-------+--------------------+\n",
      "|MaxTemp|MinTemp|Temp3pm|Temp9am|            features|\n",
      "+-------+-------+-------+-------+--------------------+\n",
      "|   32.3|   17.5|   29.7|   17.8|[32.3,17.5,29.7,1...|\n",
      "|   21.7|   15.9|   17.0|   15.9|[21.7,15.9,17.0,1...|\n",
      "|   18.6|   15.9|   15.8|   17.4|[18.6,15.9,15.8,1...|\n",
      "+-------+-------+-------+-------+--------------------+\n",
      "only showing top 3 rows\n",
      "\n"
     ]
    }
   ],
   "source": [
    "# Select feature items and combine feature items into vectors\n",
    "from pyspark.ml.feature import VectorAssembler\n",
    "vecAss = VectorAssembler(inputCols = lr_dfspark.columns[0:4], outputCol = 'features')\n",
    "df_rl = vecAss.transform(lr_dfspark)\n",
    "df_rl.show(3)"
   ]
  },
  {
   "cell_type": "code",
   "execution_count": 158,
   "metadata": {},
   "outputs": [
    {
     "name": "stdout",
     "output_type": "stream",
     "text": [
      "+--------------------+-------+\n",
      "|            features|Temp3pm|\n",
      "+--------------------+-------+\n",
      "|[32.3,17.5,29.7,1...|   29.7|\n",
      "|[21.7,15.9,17.0,1...|   17.0|\n",
      "|[18.6,15.9,15.8,1...|   15.8|\n",
      "+--------------------+-------+\n",
      "only showing top 3 rows\n",
      "\n"
     ]
    }
   ],
   "source": [
    "data_rl = df_rl.select([\"features\",\"Temp3pm\"])\n",
    "data_rl.show(3)"
   ]
  },
  {
   "cell_type": "markdown",
   "metadata": {},
   "source": [
    "## Step2: Train/Test split"
   ]
  },
  {
   "cell_type": "code",
   "execution_count": 159,
   "metadata": {},
   "outputs": [
    {
     "name": "stdout",
     "output_type": "stream",
     "text": [
      "Training Dataset Count: 51288\n",
      "Test Dataset Count: 22123\n"
     ]
    }
   ],
   "source": [
    "# split the data into train-test split where 30% of data will be used as test set\n",
    "datatrain, datatest = data_rl.randomSplit([0.7, 0.3])\n",
    "print(\"Training Dataset Count: \" + str(datatrain.count()))\n",
    "print(\"Test Dataset Count: \" + str(datatest.count()))"
   ]
  },
  {
   "cell_type": "code",
   "execution_count": 160,
   "metadata": {},
   "outputs": [
    {
     "name": "stdout",
     "output_type": "stream",
     "text": [
      "+-------+------------------+\n",
      "|summary|           Temp3pm|\n",
      "+-------+------------------+\n",
      "|  count|             51288|\n",
      "|   mean|22.232990173139882|\n",
      "| stddev| 7.026925895110897|\n",
      "|    min|               1.7|\n",
      "|    max|              46.7|\n",
      "+-------+------------------+\n",
      "\n"
     ]
    }
   ],
   "source": [
    "datatrain.describe().show()"
   ]
  },
  {
   "cell_type": "code",
   "execution_count": 161,
   "metadata": {},
   "outputs": [
    {
     "name": "stdout",
     "output_type": "stream",
     "text": [
      "+-------+------------------+\n",
      "|summary|           Temp3pm|\n",
      "+-------+------------------+\n",
      "|  count|             22123|\n",
      "|   mean|22.255250192107763|\n",
      "| stddev|   7.0307139916224|\n",
      "|    min|               3.2|\n",
      "|    max|              45.4|\n",
      "+-------+------------------+\n",
      "\n"
     ]
    }
   ],
   "source": [
    "datatest.describe().show()"
   ]
  },
  {
   "cell_type": "markdown",
   "metadata": {},
   "source": [
    "## Step3: Build the linear regression model to prediction the temperature of 3pm in today"
   ]
  },
  {
   "cell_type": "code",
   "execution_count": 162,
   "metadata": {},
   "outputs": [
    {
     "name": "stdout",
     "output_type": "stream",
     "text": [
      "+------------------+-------+------------------+\n",
      "|          features|Temp3pm|        prediction|\n",
      "+------------------+-------+------------------+\n",
      "|[4.1,-2.2,3.7,0.7]|    3.7| 3.699999999999995|\n",
      "| [5.2,3.3,4.8,3.7]|    4.8| 4.799999999999992|\n",
      "| [5.6,0.6,4.3,2.8]|    4.3| 4.300000000000005|\n",
      "| [6.6,1.0,5.7,1.8]|    5.7| 5.700000000000001|\n",
      "|[6.7,-2.0,5.4,0.9]|    5.4| 5.400000000000007|\n",
      "| [6.7,2.3,3.4,4.5]|    3.4|3.4000000000000328|\n",
      "| [6.8,2.9,4.7,4.2]|    4.7| 4.700000000000015|\n",
      "| [6.8,4.4,6.4,4.7]|    6.4|6.3999999999999915|\n",
      "|[6.9,-0.1,6.0,1.4]|    6.0| 6.000000000000001|\n",
      "| [7.0,0.3,5.2,2.1]|    5.2| 5.200000000000012|\n",
      "+------------------+-------+------------------+\n",
      "only showing top 10 rows\n",
      "\n"
     ]
    }
   ],
   "source": [
    "from pyspark.ml.regression import LinearRegression\n",
    "linearRegression = LinearRegression(labelCol=\"Temp3pm\")\n",
    "lr_model = linearRegression.fit(datatrain)\n",
    "train_res = lr_model.transform(datatrain)\n",
    "train_res.show(10)"
   ]
  },
  {
   "cell_type": "code",
   "execution_count": 163,
   "metadata": {},
   "outputs": [
    {
     "name": "stdout",
     "output_type": "stream",
     "text": [
      "+-----------------+-------+------------------+\n",
      "|         features|Temp3pm|        prediction|\n",
      "+-----------------+-------+------------------+\n",
      "|[4.6,1.5,3.4,3.3]|    3.4|3.4000000000000035|\n",
      "|[4.9,0.8,3.2,2.7]|    3.2|3.2000000000000113|\n",
      "|[5.5,1.3,4.6,3.2]|    4.6| 4.599999999999999|\n",
      "|[6.3,1.1,6.0,2.1]|    6.0| 5.999999999999991|\n",
      "|[6.9,4.7,5.9,5.3]|    5.9| 5.899999999999999|\n",
      "|[7.0,2.5,6.5,5.6]|    6.5| 6.499999999999992|\n",
      "|[7.1,4.1,6.3,6.3]|    6.3| 6.299999999999995|\n",
      "|[7.1,5.1,6.4,5.9]|    6.4| 6.399999999999995|\n",
      "|[7.2,4.8,6.7,6.6]|    6.7| 6.699999999999991|\n",
      "|[7.2,6.6,5.2,7.2]|    5.2| 5.200000000000012|\n",
      "+-----------------+-------+------------------+\n",
      "only showing top 10 rows\n",
      "\n"
     ]
    }
   ],
   "source": [
    "test_res = lr_model.transform(datatest)\n",
    "test_res.show(10)"
   ]
  },
  {
   "cell_type": "markdown",
   "metadata": {},
   "source": [
    "## Step4: Evaluation of model"
   ]
  },
  {
   "cell_type": "code",
   "execution_count": 164,
   "metadata": {},
   "outputs": [],
   "source": [
    "res_test = lr_model.evaluate(datatest)"
   ]
  },
  {
   "cell_type": "code",
   "execution_count": 165,
   "metadata": {},
   "outputs": [
    {
     "name": "stdout",
     "output_type": "stream",
     "text": [
      "mean_squared_error（MSE）： 2.832934279883897e-28\n",
      "mean_absolute_error（MAE）： 1.1521287622955896e-14\n",
      "r_square_score（r2_score）： 1.0\n"
     ]
    }
   ],
   "source": [
    "print(\"mean_squared_error（MSE）：\",res_test.meanSquaredError)\n",
    "  \n",
    "print(\"mean_absolute_error（MAE）：\",res_test.meanAbsoluteError)\n",
    "\n",
    "print(\"r_square_score（r2_score）：\", res_test.r2)"
   ]
  },
  {
   "cell_type": "markdown",
   "metadata": {},
   "source": [
    "* From the result , It can be seen that this model fits well"
   ]
  },
  {
   "cell_type": "markdown",
   "metadata": {},
   "source": [
    "# `Clustering`"
   ]
  },
  {
   "cell_type": "markdown",
   "metadata": {},
   "source": [
    "##  Use K-means to clustering the data"
   ]
  },
  {
   "cell_type": "markdown",
   "metadata": {},
   "source": [
    "## Step1: Get the data that we need and use Elbow method to get the k value."
   ]
  },
  {
   "cell_type": "code",
   "execution_count": 166,
   "metadata": {},
   "outputs": [
    {
     "data": {
      "text/html": [
       "<div>\n",
       "<style scoped>\n",
       "    .dataframe tbody tr th:only-of-type {\n",
       "        vertical-align: middle;\n",
       "    }\n",
       "\n",
       "    .dataframe tbody tr th {\n",
       "        vertical-align: top;\n",
       "    }\n",
       "\n",
       "    .dataframe thead th {\n",
       "        text-align: right;\n",
       "    }\n",
       "</style>\n",
       "<table border=\"1\" class=\"dataframe\">\n",
       "  <thead>\n",
       "    <tr style=\"text-align: right;\">\n",
       "      <th></th>\n",
       "      <th>MinTemp</th>\n",
       "      <th>MaxTemp</th>\n",
       "      <th>Rainfall</th>\n",
       "      <th>WindGustSpeed</th>\n",
       "      <th>WindSpeed9am</th>\n",
       "      <th>WindSpeed3pm</th>\n",
       "      <th>Humidity9am</th>\n",
       "      <th>Humidity3pm</th>\n",
       "      <th>Pressure9am</th>\n",
       "      <th>Pressure3pm</th>\n",
       "      <th>Cloud9am</th>\n",
       "      <th>Cloud3pm</th>\n",
       "      <th>Temp9am</th>\n",
       "      <th>Temp3pm</th>\n",
       "    </tr>\n",
       "  </thead>\n",
       "  <tbody>\n",
       "    <tr>\n",
       "      <th>4</th>\n",
       "      <td>17.5</td>\n",
       "      <td>32.3</td>\n",
       "      <td>1.0</td>\n",
       "      <td>41</td>\n",
       "      <td>7</td>\n",
       "      <td>20</td>\n",
       "      <td>82</td>\n",
       "      <td>33</td>\n",
       "      <td>1010.8</td>\n",
       "      <td>1006.0</td>\n",
       "      <td>7</td>\n",
       "      <td>8</td>\n",
       "      <td>17.8</td>\n",
       "      <td>29.7</td>\n",
       "    </tr>\n",
       "    <tr>\n",
       "      <th>11</th>\n",
       "      <td>15.9</td>\n",
       "      <td>21.7</td>\n",
       "      <td>2.2</td>\n",
       "      <td>31</td>\n",
       "      <td>15</td>\n",
       "      <td>13</td>\n",
       "      <td>89</td>\n",
       "      <td>91</td>\n",
       "      <td>1010.5</td>\n",
       "      <td>1004.2</td>\n",
       "      <td>8</td>\n",
       "      <td>8</td>\n",
       "      <td>15.9</td>\n",
       "      <td>17.0</td>\n",
       "    </tr>\n",
       "    <tr>\n",
       "      <th>12</th>\n",
       "      <td>15.9</td>\n",
       "      <td>18.6</td>\n",
       "      <td>15.6</td>\n",
       "      <td>61</td>\n",
       "      <td>28</td>\n",
       "      <td>28</td>\n",
       "      <td>76</td>\n",
       "      <td>93</td>\n",
       "      <td>994.3</td>\n",
       "      <td>993.0</td>\n",
       "      <td>8</td>\n",
       "      <td>8</td>\n",
       "      <td>17.4</td>\n",
       "      <td>15.8</td>\n",
       "    </tr>\n",
       "    <tr>\n",
       "      <th>16</th>\n",
       "      <td>14.1</td>\n",
       "      <td>20.9</td>\n",
       "      <td>0.0</td>\n",
       "      <td>22</td>\n",
       "      <td>11</td>\n",
       "      <td>9</td>\n",
       "      <td>69</td>\n",
       "      <td>82</td>\n",
       "      <td>1012.2</td>\n",
       "      <td>1010.4</td>\n",
       "      <td>8</td>\n",
       "      <td>1</td>\n",
       "      <td>17.2</td>\n",
       "      <td>18.1</td>\n",
       "    </tr>\n",
       "    <tr>\n",
       "      <th>17</th>\n",
       "      <td>13.5</td>\n",
       "      <td>22.9</td>\n",
       "      <td>16.8</td>\n",
       "      <td>63</td>\n",
       "      <td>6</td>\n",
       "      <td>20</td>\n",
       "      <td>80</td>\n",
       "      <td>65</td>\n",
       "      <td>1005.8</td>\n",
       "      <td>1002.2</td>\n",
       "      <td>8</td>\n",
       "      <td>1</td>\n",
       "      <td>18.0</td>\n",
       "      <td>21.5</td>\n",
       "    </tr>\n",
       "  </tbody>\n",
       "</table>\n",
       "</div>"
      ],
      "text/plain": [
       "    MinTemp  MaxTemp  Rainfall  WindGustSpeed  WindSpeed9am  WindSpeed3pm  \\\n",
       "4      17.5     32.3       1.0             41             7            20   \n",
       "11     15.9     21.7       2.2             31            15            13   \n",
       "12     15.9     18.6      15.6             61            28            28   \n",
       "16     14.1     20.9       0.0             22            11             9   \n",
       "17     13.5     22.9      16.8             63             6            20   \n",
       "\n",
       "    Humidity9am  Humidity3pm  Pressure9am  Pressure3pm  Cloud9am  Cloud3pm  \\\n",
       "4            82           33       1010.8       1006.0         7         8   \n",
       "11           89           91       1010.5       1004.2         8         8   \n",
       "12           76           93        994.3        993.0         8         8   \n",
       "16           69           82       1012.2       1010.4         8         1   \n",
       "17           80           65       1005.8       1002.2         8         1   \n",
       "\n",
       "    Temp9am  Temp3pm  \n",
       "4      17.8     29.7  \n",
       "11     15.9     17.0  \n",
       "12     17.4     15.8  \n",
       "16     17.2     18.1  \n",
       "17     18.0     21.5  "
      ]
     },
     "execution_count": 166,
     "metadata": {},
     "output_type": "execute_result"
    }
   ],
   "source": [
    "numeric_data = data_df[[\"MinTemp\",\"MaxTemp\",\n",
    "            \"Rainfall\",\"WindGustSpeed\",\"WindSpeed9am\",\"WindSpeed3pm\",\n",
    "            \"Humidity9am\", \"Humidity3pm\",\"Pressure9am\",\n",
    "            \"Pressure3pm\", \"Cloud9am\",\"Cloud3pm\",\"Temp9am\", \"Temp3pm\"]]\n",
    "numeric_data.head(5)"
   ]
  },
  {
   "cell_type": "code",
   "execution_count": 167,
   "metadata": {},
   "outputs": [
    {
     "data": {
      "text/html": [
       "<div>\n",
       "<style scoped>\n",
       "    .dataframe tbody tr th:only-of-type {\n",
       "        vertical-align: middle;\n",
       "    }\n",
       "\n",
       "    .dataframe tbody tr th {\n",
       "        vertical-align: top;\n",
       "    }\n",
       "\n",
       "    .dataframe thead th {\n",
       "        text-align: right;\n",
       "    }\n",
       "</style>\n",
       "<table border=\"1\" class=\"dataframe\">\n",
       "  <thead>\n",
       "    <tr style=\"text-align: right;\">\n",
       "      <th></th>\n",
       "      <th>MinTemp</th>\n",
       "      <th>MaxTemp</th>\n",
       "      <th>Rainfall</th>\n",
       "      <th>WindGustSpeed</th>\n",
       "      <th>WindSpeed9am</th>\n",
       "      <th>WindSpeed3pm</th>\n",
       "      <th>Humidity9am</th>\n",
       "      <th>Humidity3pm</th>\n",
       "      <th>Pressure9am</th>\n",
       "      <th>Pressure3pm</th>\n",
       "      <th>...</th>\n",
       "      <th>z_WindSpeed9am</th>\n",
       "      <th>z_WindSpeed3pm</th>\n",
       "      <th>z_Humidity9am</th>\n",
       "      <th>z_Humidity3pm</th>\n",
       "      <th>z_Pressure9am</th>\n",
       "      <th>z_Pressure3pm</th>\n",
       "      <th>z_Cloud9am</th>\n",
       "      <th>z_Cloud3pm</th>\n",
       "      <th>z_Temp9am</th>\n",
       "      <th>z_Temp3pm</th>\n",
       "    </tr>\n",
       "  </thead>\n",
       "  <tbody>\n",
       "    <tr>\n",
       "      <th>4</th>\n",
       "      <td>17.5</td>\n",
       "      <td>32.3</td>\n",
       "      <td>1.0</td>\n",
       "      <td>41</td>\n",
       "      <td>7</td>\n",
       "      <td>20</td>\n",
       "      <td>82</td>\n",
       "      <td>33</td>\n",
       "      <td>1010.8</td>\n",
       "      <td>1006.0</td>\n",
       "      <td>...</td>\n",
       "      <td>-0.964036</td>\n",
       "      <td>0.054669</td>\n",
       "      <td>0.756862</td>\n",
       "      <td>-0.851067</td>\n",
       "      <td>-0.927850</td>\n",
       "      <td>-1.279133</td>\n",
       "      <td>0.89770</td>\n",
       "      <td>1.292486</td>\n",
       "      <td>0.015173</td>\n",
       "      <td>1.061507</td>\n",
       "    </tr>\n",
       "    <tr>\n",
       "      <th>11</th>\n",
       "      <td>15.9</td>\n",
       "      <td>21.7</td>\n",
       "      <td>2.2</td>\n",
       "      <td>31</td>\n",
       "      <td>15</td>\n",
       "      <td>13</td>\n",
       "      <td>89</td>\n",
       "      <td>91</td>\n",
       "      <td>1010.5</td>\n",
       "      <td>1004.2</td>\n",
       "      <td>...</td>\n",
       "      <td>-0.034248</td>\n",
       "      <td>-0.758399</td>\n",
       "      <td>1.122543</td>\n",
       "      <td>1.920173</td>\n",
       "      <td>-0.970640</td>\n",
       "      <td>-1.537508</td>\n",
       "      <td>1.24586</td>\n",
       "      <td>1.292486</td>\n",
       "      <td>-0.270411</td>\n",
       "      <td>-0.745543</td>\n",
       "    </tr>\n",
       "    <tr>\n",
       "      <th>12</th>\n",
       "      <td>15.9</td>\n",
       "      <td>18.6</td>\n",
       "      <td>15.6</td>\n",
       "      <td>61</td>\n",
       "      <td>28</td>\n",
       "      <td>28</td>\n",
       "      <td>76</td>\n",
       "      <td>93</td>\n",
       "      <td>994.3</td>\n",
       "      <td>993.0</td>\n",
       "      <td>...</td>\n",
       "      <td>1.476658</td>\n",
       "      <td>0.983890</td>\n",
       "      <td>0.443422</td>\n",
       "      <td>2.015733</td>\n",
       "      <td>-3.281274</td>\n",
       "      <td>-3.145171</td>\n",
       "      <td>1.24586</td>\n",
       "      <td>1.292486</td>\n",
       "      <td>-0.044950</td>\n",
       "      <td>-0.916288</td>\n",
       "    </tr>\n",
       "    <tr>\n",
       "      <th>16</th>\n",
       "      <td>14.1</td>\n",
       "      <td>20.9</td>\n",
       "      <td>0.0</td>\n",
       "      <td>22</td>\n",
       "      <td>11</td>\n",
       "      <td>9</td>\n",
       "      <td>69</td>\n",
       "      <td>82</td>\n",
       "      <td>1012.2</td>\n",
       "      <td>1010.4</td>\n",
       "      <td>...</td>\n",
       "      <td>-0.499142</td>\n",
       "      <td>-1.223010</td>\n",
       "      <td>0.077741</td>\n",
       "      <td>1.490153</td>\n",
       "      <td>-0.728166</td>\n",
       "      <td>-0.647551</td>\n",
       "      <td>1.24586</td>\n",
       "      <td>-1.289326</td>\n",
       "      <td>-0.075012</td>\n",
       "      <td>-0.589027</td>\n",
       "    </tr>\n",
       "    <tr>\n",
       "      <th>17</th>\n",
       "      <td>13.5</td>\n",
       "      <td>22.9</td>\n",
       "      <td>16.8</td>\n",
       "      <td>63</td>\n",
       "      <td>6</td>\n",
       "      <td>20</td>\n",
       "      <td>80</td>\n",
       "      <td>65</td>\n",
       "      <td>1005.8</td>\n",
       "      <td>1002.2</td>\n",
       "      <td>...</td>\n",
       "      <td>-1.080259</td>\n",
       "      <td>0.054669</td>\n",
       "      <td>0.652382</td>\n",
       "      <td>0.677893</td>\n",
       "      <td>-1.641009</td>\n",
       "      <td>-1.824590</td>\n",
       "      <td>1.24586</td>\n",
       "      <td>-1.289326</td>\n",
       "      <td>0.045234</td>\n",
       "      <td>-0.105250</td>\n",
       "    </tr>\n",
       "  </tbody>\n",
       "</table>\n",
       "<p>5 rows × 28 columns</p>\n",
       "</div>"
      ],
      "text/plain": [
       "    MinTemp  MaxTemp  Rainfall  WindGustSpeed  WindSpeed9am  WindSpeed3pm  \\\n",
       "4      17.5     32.3       1.0             41             7            20   \n",
       "11     15.9     21.7       2.2             31            15            13   \n",
       "12     15.9     18.6      15.6             61            28            28   \n",
       "16     14.1     20.9       0.0             22            11             9   \n",
       "17     13.5     22.9      16.8             63             6            20   \n",
       "\n",
       "    Humidity9am  Humidity3pm  Pressure9am  Pressure3pm  ...  z_WindSpeed9am  \\\n",
       "4            82           33       1010.8       1006.0  ...       -0.964036   \n",
       "11           89           91       1010.5       1004.2  ...       -0.034248   \n",
       "12           76           93        994.3        993.0  ...        1.476658   \n",
       "16           69           82       1012.2       1010.4  ...       -0.499142   \n",
       "17           80           65       1005.8       1002.2  ...       -1.080259   \n",
       "\n",
       "    z_WindSpeed3pm  z_Humidity9am  z_Humidity3pm  z_Pressure9am  \\\n",
       "4         0.054669       0.756862      -0.851067      -0.927850   \n",
       "11       -0.758399       1.122543       1.920173      -0.970640   \n",
       "12        0.983890       0.443422       2.015733      -3.281274   \n",
       "16       -1.223010       0.077741       1.490153      -0.728166   \n",
       "17        0.054669       0.652382       0.677893      -1.641009   \n",
       "\n",
       "    z_Pressure3pm  z_Cloud9am  z_Cloud3pm  z_Temp9am  z_Temp3pm  \n",
       "4       -1.279133     0.89770    1.292486   0.015173   1.061507  \n",
       "11      -1.537508     1.24586    1.292486  -0.270411  -0.745543  \n",
       "12      -3.145171     1.24586    1.292486  -0.044950  -0.916288  \n",
       "16      -0.647551     1.24586   -1.289326  -0.075012  -0.589027  \n",
       "17      -1.824590     1.24586   -1.289326   0.045234  -0.105250  \n",
       "\n",
       "[5 rows x 28 columns]"
      ]
     },
     "execution_count": 167,
     "metadata": {},
     "output_type": "execute_result"
    }
   ],
   "source": [
    "# standardized data\n",
    "numeric_data['z_MinTemp']= (numeric_data['MinTemp']-numeric_data['MinTemp'].mean())/numeric_data['MinTemp'].std()\n",
    "numeric_data['z_MaxTemp']= (numeric_data['MaxTemp']-numeric_data['MaxTemp'].mean())/numeric_data['MaxTemp'].std()\n",
    "numeric_data['z_Rainfall']= (numeric_data['Rainfall']-numeric_data['Rainfall'].mean())/numeric_data['Rainfall'].std()\n",
    "numeric_data['z_WindGustSpeed']= (numeric_data['WindGustSpeed']-numeric_data['WindGustSpeed'].mean())/numeric_data['WindGustSpeed'].std()\n",
    "numeric_data['z_WindSpeed9am']= (numeric_data['WindSpeed9am']-numeric_data['WindSpeed9am'].mean())/numeric_data['WindSpeed9am'].std()\n",
    "numeric_data['z_WindSpeed3pm']= (numeric_data['WindSpeed3pm']-numeric_data['WindSpeed3pm'].mean())/numeric_data['WindSpeed3pm'].std()\n",
    "numeric_data['z_Humidity9am']= (numeric_data['Humidity9am']-numeric_data['Humidity9am'].mean())/numeric_data['Humidity9am'].std()\n",
    "numeric_data['z_Humidity3pm']= (numeric_data['Humidity3pm']-numeric_data['Humidity3pm'].mean())/numeric_data['Humidity3pm'].std()\n",
    "numeric_data['z_Pressure9am']= (numeric_data['Pressure9am']-numeric_data['Pressure9am'].mean())/numeric_data['Pressure9am'].std()\n",
    "numeric_data['z_Pressure3pm']= (numeric_data['Pressure3pm']-numeric_data['Pressure3pm'].mean())/numeric_data['Pressure3pm'].std()\n",
    "numeric_data['z_Cloud9am']= (numeric_data['Cloud9am']-numeric_data['Cloud9am'].mean())/numeric_data['Cloud9am'].std()\n",
    "numeric_data['z_Cloud3pm']= (numeric_data['Cloud3pm']-numeric_data['Cloud3pm'].mean())/numeric_data['Cloud3pm'].std()\n",
    "numeric_data['z_Temp9am']= (numeric_data['Temp9am']-numeric_data['Temp9am'].mean())/numeric_data['Temp9am'].std()\n",
    "numeric_data['z_Temp3pm']= (numeric_data['Temp3pm']-numeric_data['Temp3pm'].mean())/numeric_data['Temp3pm'].std()\n",
    "\n",
    "numeric_data.head(5)"
   ]
  },
  {
   "cell_type": "code",
   "execution_count": 168,
   "metadata": {},
   "outputs": [
    {
     "data": {
      "text/plain": [
       "[<matplotlib.lines.Line2D at 0x7f360b1ea250>]"
      ]
     },
     "execution_count": 168,
     "metadata": {},
     "output_type": "execute_result"
    },
    {
     "data": {
      "image/png": "[encoded data removed]",
      "text/plain": [
       "<Figure size 432x288 with 1 Axes>"
      ]
     },
     "metadata": {
      "needs_background": "light"
     },
     "output_type": "display_data"
    }
   ],
   "source": [
    "'''Use Elbow Method to choose the cluster number k value'''\n",
    "\n",
    "#initialize the sum of squared error\n",
    "SSE=[]\n",
    "# try different k value\n",
    "for k in range(1,10):\n",
    "    estimator =cluster.KMeans(n_clusters=k)\n",
    "    estimator.fit(np.array(numeric_data))\n",
    "    SSE.append(estimator.inertia_)\n",
    "    \n",
    "#plot the ELBOW graph to find the best k value\n",
    "X = range(1, 10)\n",
    "plt.xlabel('k')\n",
    "plt.ylabel('SSE')\n",
    "plt.plot(X, SSE, 'o-')"
   ]
  },
  {
   "cell_type": "markdown",
   "metadata": {},
   "source": [
    "* It can be observed that there exists visible clusters in the data. So K-Means might work .let's try it."
   ]
  },
  {
   "cell_type": "markdown",
   "metadata": {},
   "source": [
    "###  According the Elbow Method, we choose cluster number k = 2"
   ]
  },
  {
   "cell_type": "markdown",
   "metadata": {},
   "source": [
    "### I will  extract the variables which are highly positively correlated."
   ]
  },
  {
   "cell_type": "markdown",
   "metadata": {},
   "source": [
    "## Step2: Get the data that we need"
   ]
  },
  {
   "cell_type": "code",
   "execution_count": 169,
   "metadata": {},
   "outputs": [],
   "source": [
    "data_to_cluster = data_df[[\"Rainfall\",\"WindGustSpeed\",\"Humidity9am\", \"Humidity3pm\", \"Cloud9am\",\"Cloud3pm\",'RainTomorrow']]"
   ]
  },
  {
   "cell_type": "code",
   "execution_count": 170,
   "metadata": {},
   "outputs": [
    {
     "data": {
      "text/html": [
       "<div>\n",
       "<style scoped>\n",
       "    .dataframe tbody tr th:only-of-type {\n",
       "        vertical-align: middle;\n",
       "    }\n",
       "\n",
       "    .dataframe tbody tr th {\n",
       "        vertical-align: top;\n",
       "    }\n",
       "\n",
       "    .dataframe thead th {\n",
       "        text-align: right;\n",
       "    }\n",
       "</style>\n",
       "<table border=\"1\" class=\"dataframe\">\n",
       "  <thead>\n",
       "    <tr style=\"text-align: right;\">\n",
       "      <th></th>\n",
       "      <th>Rainfall</th>\n",
       "      <th>WindGustSpeed</th>\n",
       "      <th>Humidity9am</th>\n",
       "      <th>Humidity3pm</th>\n",
       "      <th>Cloud9am</th>\n",
       "      <th>Cloud3pm</th>\n",
       "      <th>RainTomorrow</th>\n",
       "    </tr>\n",
       "  </thead>\n",
       "  <tbody>\n",
       "    <tr>\n",
       "      <th>4</th>\n",
       "      <td>1.0</td>\n",
       "      <td>41</td>\n",
       "      <td>82</td>\n",
       "      <td>33</td>\n",
       "      <td>7</td>\n",
       "      <td>8</td>\n",
       "      <td>0</td>\n",
       "    </tr>\n",
       "    <tr>\n",
       "      <th>11</th>\n",
       "      <td>2.2</td>\n",
       "      <td>31</td>\n",
       "      <td>89</td>\n",
       "      <td>91</td>\n",
       "      <td>8</td>\n",
       "      <td>8</td>\n",
       "      <td>1</td>\n",
       "    </tr>\n",
       "    <tr>\n",
       "      <th>12</th>\n",
       "      <td>15.6</td>\n",
       "      <td>61</td>\n",
       "      <td>76</td>\n",
       "      <td>93</td>\n",
       "      <td>8</td>\n",
       "      <td>8</td>\n",
       "      <td>1</td>\n",
       "    </tr>\n",
       "    <tr>\n",
       "      <th>16</th>\n",
       "      <td>0.0</td>\n",
       "      <td>22</td>\n",
       "      <td>69</td>\n",
       "      <td>82</td>\n",
       "      <td>8</td>\n",
       "      <td>1</td>\n",
       "      <td>1</td>\n",
       "    </tr>\n",
       "    <tr>\n",
       "      <th>17</th>\n",
       "      <td>16.8</td>\n",
       "      <td>63</td>\n",
       "      <td>80</td>\n",
       "      <td>65</td>\n",
       "      <td>8</td>\n",
       "      <td>1</td>\n",
       "      <td>1</td>\n",
       "    </tr>\n",
       "  </tbody>\n",
       "</table>\n",
       "</div>"
      ],
      "text/plain": [
       "    Rainfall  WindGustSpeed  Humidity9am  Humidity3pm  Cloud9am  Cloud3pm  \\\n",
       "4        1.0             41           82           33         7         8   \n",
       "11       2.2             31           89           91         8         8   \n",
       "12      15.6             61           76           93         8         8   \n",
       "16       0.0             22           69           82         8         1   \n",
       "17      16.8             63           80           65         8         1   \n",
       "\n",
       "    RainTomorrow  \n",
       "4              0  \n",
       "11             1  \n",
       "12             1  \n",
       "16             1  \n",
       "17             1  "
      ]
     },
     "execution_count": 170,
     "metadata": {},
     "output_type": "execute_result"
    }
   ],
   "source": [
    "data_to_cluster.head(5)"
   ]
  },
  {
   "cell_type": "code",
   "execution_count": 171,
   "metadata": {},
   "outputs": [],
   "source": [
    "spark = SparkSession.builder.getOrCreate()\n",
    "km_dfspark = spark.createDataFrame(data_to_cluster)"
   ]
  },
  {
   "cell_type": "code",
   "execution_count": 172,
   "metadata": {},
   "outputs": [
    {
     "name": "stdout",
     "output_type": "stream",
     "text": [
      "root\n",
      " |-- Rainfall: double (nullable = true)\n",
      " |-- WindGustSpeed: long (nullable = true)\n",
      " |-- Humidity9am: long (nullable = true)\n",
      " |-- Humidity3pm: long (nullable = true)\n",
      " |-- Cloud9am: long (nullable = true)\n",
      " |-- Cloud3pm: long (nullable = true)\n",
      " |-- RainTomorrow: long (nullable = true)\n",
      "\n"
     ]
    }
   ],
   "source": [
    "km_dfspark.printSchema() "
   ]
  },
  {
   "cell_type": "code",
   "execution_count": 173,
   "metadata": {},
   "outputs": [
    {
     "name": "stdout",
     "output_type": "stream",
     "text": [
      "+------------+-----+\n",
      "|RainTomorrow|count|\n",
      "+------------+-----+\n",
      "|           0|56169|\n",
      "|           1|17242|\n",
      "+------------+-----+\n",
      "\n"
     ]
    }
   ],
   "source": [
    "km_dfspark.groupBy('RainTomorrow').count().show()"
   ]
  },
  {
   "cell_type": "markdown",
   "metadata": {},
   "source": [
    "## Stpe3: Features engineering"
   ]
  },
  {
   "cell_type": "code",
   "execution_count": 174,
   "metadata": {},
   "outputs": [
    {
     "name": "stdout",
     "output_type": "stream",
     "text": [
      "+--------+-------------+-----------+-----------+--------+--------+------------+--------------------+\n",
      "|Rainfall|WindGustSpeed|Humidity9am|Humidity3pm|Cloud9am|Cloud3pm|RainTomorrow|            features|\n",
      "+--------+-------------+-----------+-----------+--------+--------+------------+--------------------+\n",
      "|     1.0|           41|         82|         33|       7|       8|           0|[1.0,41.0,82.0,33...|\n",
      "|     2.2|           31|         89|         91|       8|       8|           1|[2.2,31.0,89.0,91...|\n",
      "|    15.6|           61|         76|         93|       8|       8|           1|[15.6,61.0,76.0,9...|\n",
      "+--------+-------------+-----------+-----------+--------+--------+------------+--------------------+\n",
      "only showing top 3 rows\n",
      "\n"
     ]
    }
   ],
   "source": [
    "# Select feature items and combine feature items into vectors\n",
    "from pyspark.ml.feature import VectorAssembler\n",
    "vecAss = VectorAssembler(inputCols = km_dfspark.columns[0:6], outputCol = 'features')\n",
    "df_kmeans = vecAss.transform(km_dfspark)\n",
    "df_kmeans.show(3)"
   ]
  },
  {
   "cell_type": "code",
   "execution_count": 175,
   "metadata": {},
   "outputs": [
    {
     "name": "stdout",
     "output_type": "stream",
     "text": [
      "+--------------------+------------+\n",
      "|            features|RainTomorrow|\n",
      "+--------------------+------------+\n",
      "|[1.0,41.0,82.0,33...|           0|\n",
      "|[2.2,31.0,89.0,91...|           1|\n",
      "|[15.6,61.0,76.0,9...|           1|\n",
      "+--------------------+------------+\n",
      "only showing top 3 rows\n",
      "\n"
     ]
    }
   ],
   "source": [
    "data_kmeans = df_kmeans.select([\"features\",\"RainTomorrow\"])\n",
    "data_kmeans.show(3)"
   ]
  },
  {
   "cell_type": "markdown",
   "metadata": {},
   "source": [
    "## Step4: Train/Test split"
   ]
  },
  {
   "cell_type": "code",
   "execution_count": 176,
   "metadata": {},
   "outputs": [
    {
     "name": "stdout",
     "output_type": "stream",
     "text": [
      "Training Dataset Count: 51397\n",
      "Test Dataset Count: 22014\n"
     ]
    }
   ],
   "source": [
    "datatrain, datatest = data_kmeans.randomSplit([0.7, 0.3])\n",
    "print(\"Training Dataset Count: \" + str(datatrain.count()))\n",
    "print(\"Test Dataset Count: \" + str(datatest.count()))"
   ]
  },
  {
   "cell_type": "code",
   "execution_count": 177,
   "metadata": {},
   "outputs": [
    {
     "name": "stdout",
     "output_type": "stream",
     "text": [
      "+-------+-------------------+\n",
      "|summary|       RainTomorrow|\n",
      "+-------+-------------------+\n",
      "|  count|              51397|\n",
      "|   mean| 0.2349748039768858|\n",
      "| stddev|0.42398719680359775|\n",
      "|    min|                  0|\n",
      "|    max|                  1|\n",
      "+-------+-------------------+\n",
      "\n"
     ]
    }
   ],
   "source": [
    "datatrain.describe().show()"
   ]
  },
  {
   "cell_type": "code",
   "execution_count": 178,
   "metadata": {},
   "outputs": [
    {
     "name": "stdout",
     "output_type": "stream",
     "text": [
      "+-------+-------------------+\n",
      "|summary|       RainTomorrow|\n",
      "+-------+-------------------+\n",
      "|  count|              22014|\n",
      "|   mean| 0.2346234214590715|\n",
      "| stddev|0.42377285101077367|\n",
      "|    min|                  0|\n",
      "|    max|                  1|\n",
      "+-------+-------------------+\n",
      "\n"
     ]
    }
   ],
   "source": [
    "datatest.describe().show()"
   ]
  },
  {
   "cell_type": "markdown",
   "metadata": {},
   "source": [
    "##  Step5: Build the model of Kmeans\n",
    "* According the Elbow Method, we choose cluster number k = 2"
   ]
  },
  {
   "cell_type": "code",
   "execution_count": 179,
   "metadata": {},
   "outputs": [
    {
     "name": "stdout",
     "output_type": "stream",
     "text": [
      "+--------------------+------------+----------+\n",
      "|            features|RainTomorrow|prediction|\n",
      "+--------------------+------------+----------+\n",
      "|[0.0,11.0,85.0,58...|           0|         0|\n",
      "|[0.0,11.0,87.0,66...|           0|         0|\n",
      "|[0.0,11.0,92.0,65...|           0|         0|\n",
      "+--------------------+------------+----------+\n",
      "only showing top 3 rows\n",
      "\n"
     ]
    }
   ],
   "source": [
    "from pyspark.ml.clustering  import  KMeans\n",
    "\n",
    "# initialize KMeans object with number of desired clusters\n",
    "k_means = KMeans(featuresCol='features',k=2)\n",
    "\n",
    "# fit and transform k_means object to scaled data\n",
    "kmeans_model = k_means.fit(datatrain)\n",
    "\n",
    "train_res = kmeans_model.transform(datatrain)\n",
    "train_res.show(3)"
   ]
  },
  {
   "cell_type": "code",
   "execution_count": 180,
   "metadata": {},
   "outputs": [
    {
     "name": "stdout",
     "output_type": "stream",
     "text": [
      "+--------------------+------------+----------+\n",
      "|            features|RainTomorrow|prediction|\n",
      "+--------------------+------------+----------+\n",
      "|[0.0,13.0,75.0,57...|           0|         0|\n",
      "|[0.0,13.0,81.0,54...|           0|         0|\n",
      "|[0.0,13.0,88.0,51...|           0|         0|\n",
      "+--------------------+------------+----------+\n",
      "only showing top 3 rows\n",
      "\n"
     ]
    }
   ],
   "source": [
    "test_res = kmeans_model.transform(datatest)\n",
    "test_res.show(3)"
   ]
  },
  {
   "cell_type": "code",
   "execution_count": 181,
   "metadata": {},
   "outputs": [
    {
     "name": "stdout",
     "output_type": "stream",
     "text": [
      "Cluster Centers: \n",
      "[ 4.18179147 39.1987916  79.02885631 64.00808901  5.50442419  5.43287771]\n",
      "[ 0.41064949 42.81197593 50.94784215 31.86925008  2.83983135  3.1318395 ]\n"
     ]
    }
   ],
   "source": [
    "# Shows the Cluster Centers: .\n",
    "centers = kmeans_model.clusterCenters()\n",
    "print(\"Cluster Centers: \")\n",
    "for center in centers:\n",
    "    print(center)"
   ]
  },
  {
   "cell_type": "markdown",
   "metadata": {},
   "source": [
    "## Step4: evaluation of model by using test set"
   ]
  },
  {
   "cell_type": "code",
   "execution_count": 182,
   "metadata": {},
   "outputs": [
    {
     "name": "stdout",
     "output_type": "stream",
     "text": [
      "Silhouette with squared euclidean distance = 0.5371309036170969\n"
     ]
    }
   ],
   "source": [
    "from pyspark.ml.evaluation import ClusteringEvaluator\n",
    "\n",
    "# Evaluate clustering by computing Silhouette score\n",
    "evaluator = ClusteringEvaluator()\n",
    "\n",
    "silhouette = evaluator.evaluate(test_res)\n",
    "print(\"Silhouette with squared euclidean distance = \" + str(silhouette))"
   ]
  },
  {
   "cell_type": "markdown",
   "metadata": {},
   "source": [
    "# `Regression Classification`"
   ]
  },
  {
   "cell_type": "markdown",
   "metadata": {},
   "source": [
    "## Build the Logistic Regression Model"
   ]
  },
  {
   "cell_type": "markdown",
   "metadata": {},
   "source": [
    "### I will  extract the variables which are highly positively correlated. "
   ]
  },
  {
   "cell_type": "markdown",
   "metadata": {},
   "source": [
    "## Step1: Get the data that we need"
   ]
  },
  {
   "cell_type": "code",
   "execution_count": 183,
   "metadata": {},
   "outputs": [],
   "source": [
    "lor_df = data_df[[\"Rainfall\",\"WindGustSpeed\",\"Humidity9am\", \"Humidity3pm\", \"Cloud9am\",\"Cloud3pm\",'RainTomorrow']]\n",
    "spark = SparkSession.builder.getOrCreate()\n",
    "lor_dfspark = spark.createDataFrame(lor_df)"
   ]
  },
  {
   "cell_type": "code",
   "execution_count": 184,
   "metadata": {},
   "outputs": [
    {
     "name": "stdout",
     "output_type": "stream",
     "text": [
      "root\n",
      " |-- Rainfall: double (nullable = true)\n",
      " |-- WindGustSpeed: long (nullable = true)\n",
      " |-- Humidity9am: long (nullable = true)\n",
      " |-- Humidity3pm: long (nullable = true)\n",
      " |-- Cloud9am: long (nullable = true)\n",
      " |-- Cloud3pm: long (nullable = true)\n",
      " |-- RainTomorrow: long (nullable = true)\n",
      "\n"
     ]
    }
   ],
   "source": [
    "lor_dfspark.printSchema() "
   ]
  },
  {
   "cell_type": "code",
   "execution_count": 185,
   "metadata": {},
   "outputs": [
    {
     "name": "stdout",
     "output_type": "stream",
     "text": [
      "+--------+-------------+-----------+-----------+--------+--------+------------+\n",
      "|Rainfall|WindGustSpeed|Humidity9am|Humidity3pm|Cloud9am|Cloud3pm|RainTomorrow|\n",
      "+--------+-------------+-----------+-----------+--------+--------+------------+\n",
      "|     1.0|           41|         82|         33|       7|       8|           0|\n",
      "|     2.2|           31|         89|         91|       8|       8|           1|\n",
      "|    15.6|           61|         76|         93|       8|       8|           1|\n",
      "+--------+-------------+-----------+-----------+--------+--------+------------+\n",
      "only showing top 3 rows\n",
      "\n"
     ]
    }
   ],
   "source": [
    "lor_dfspark.show(3)"
   ]
  },
  {
   "cell_type": "markdown",
   "metadata": {},
   "source": [
    "## Stpe2: Features engineering"
   ]
  },
  {
   "cell_type": "code",
   "execution_count": 186,
   "metadata": {},
   "outputs": [
    {
     "name": "stdout",
     "output_type": "stream",
     "text": [
      "+--------+-------------+-----------+-----------+--------+--------+------------+--------------------+\n",
      "|Rainfall|WindGustSpeed|Humidity9am|Humidity3pm|Cloud9am|Cloud3pm|RainTomorrow|            features|\n",
      "+--------+-------------+-----------+-----------+--------+--------+------------+--------------------+\n",
      "|     1.0|           41|         82|         33|       7|       8|           0|[1.0,41.0,82.0,33...|\n",
      "|     2.2|           31|         89|         91|       8|       8|           1|[2.2,31.0,89.0,91...|\n",
      "|    15.6|           61|         76|         93|       8|       8|           1|[15.6,61.0,76.0,9...|\n",
      "+--------+-------------+-----------+-----------+--------+--------+------------+--------------------+\n",
      "only showing top 3 rows\n",
      "\n"
     ]
    }
   ],
   "source": [
    "# Select feature items and combine feature items into vectors\n",
    "from pyspark.ml.feature import VectorAssembler\n",
    "vecAss = VectorAssembler(inputCols = lor_dfspark.columns[0:5], outputCol = 'features')\n",
    "df_lor = vecAss.transform(lor_dfspark)\n",
    "df_lor.show(3)"
   ]
  },
  {
   "cell_type": "code",
   "execution_count": 187,
   "metadata": {},
   "outputs": [
    {
     "name": "stdout",
     "output_type": "stream",
     "text": [
      "+--------------------+------------+\n",
      "|            features|RainTomorrow|\n",
      "+--------------------+------------+\n",
      "|[1.0,41.0,82.0,33...|           0|\n",
      "|[2.2,31.0,89.0,91...|           1|\n",
      "|[15.6,61.0,76.0,9...|           1|\n",
      "+--------------------+------------+\n",
      "only showing top 3 rows\n",
      "\n"
     ]
    }
   ],
   "source": [
    "data_lor = df_lor.select([\"features\",\"RainTomorrow\"])\n",
    "data_lor.show(3)"
   ]
  },
  {
   "cell_type": "markdown",
   "metadata": {},
   "source": [
    "## Step3 : Train/Test split"
   ]
  },
  {
   "cell_type": "code",
   "execution_count": 188,
   "metadata": {},
   "outputs": [
    {
     "name": "stdout",
     "output_type": "stream",
     "text": [
      "Training Dataset Count: 51374\n",
      "Test Dataset Count: 22037\n"
     ]
    }
   ],
   "source": [
    "lor_datatrain, lor_datatest = data_lor.randomSplit([0.7, 0.3])\n",
    "print(\"Training Dataset Count: \" + str(lor_datatrain.count()))\n",
    "print(\"Test Dataset Count: \" + str(lor_datatest.count()))"
   ]
  },
  {
   "cell_type": "code",
   "execution_count": 189,
   "metadata": {},
   "outputs": [
    {
     "name": "stdout",
     "output_type": "stream",
     "text": [
      "+-------+-------------------+\n",
      "|summary|       RainTomorrow|\n",
      "+-------+-------------------+\n",
      "|  count|              51374|\n",
      "|   mean|0.23634523299723595|\n",
      "| stddev| 0.4248407667422761|\n",
      "|    min|                  0|\n",
      "|    max|                  1|\n",
      "+-------+-------------------+\n",
      "\n"
     ]
    }
   ],
   "source": [
    "lor_datatrain.describe().show()"
   ]
  },
  {
   "cell_type": "code",
   "execution_count": 190,
   "metadata": {},
   "outputs": [
    {
     "name": "stdout",
     "output_type": "stream",
     "text": [
      "+-------+-------------------+\n",
      "|summary|       RainTomorrow|\n",
      "+-------+-------------------+\n",
      "|  count|              22037|\n",
      "|   mean|0.23142896038480737|\n",
      "| stddev| 0.4217554604902293|\n",
      "|    min|                  0|\n",
      "|    max|                  1|\n",
      "+-------+-------------------+\n",
      "\n"
     ]
    }
   ],
   "source": [
    "lor_datatest.describe().show()"
   ]
  },
  {
   "cell_type": "markdown",
   "metadata": {},
   "source": [
    "## Step4: Build the Logistic Regression Model and make a prediction of Test dataset"
   ]
  },
  {
   "cell_type": "code",
   "execution_count": 191,
   "metadata": {},
   "outputs": [],
   "source": [
    "from pyspark.ml.classification import LogisticRegression\n",
    "lor = LogisticRegression(featuresCol = 'features', labelCol = 'RainTomorrow', maxIter=10, regParam=0.01)\n",
    "lorModel = lor.fit(lor_datatrain)"
   ]
  },
  {
   "cell_type": "code",
   "execution_count": 192,
   "metadata": {},
   "outputs": [
    {
     "name": "stdout",
     "output_type": "stream",
     "text": [
      "+--------------------+------------+--------------------+----------+\n",
      "|            features|RainTomorrow|         probability|prediction|\n",
      "+--------------------+------------+--------------------+----------+\n",
      "|[0.0,11.0,85.0,58...|           0|[0.93757789570081...|       0.0|\n",
      "|[0.0,11.0,87.0,66...|           0|[0.87615185216578...|       0.0|\n",
      "|[0.0,11.0,92.0,65...|           0|[0.88338379991769...|       0.0|\n",
      "+--------------------+------------+--------------------+----------+\n",
      "only showing top 3 rows\n",
      "\n"
     ]
    }
   ],
   "source": [
    "# evaluate on train data\n",
    "train_pred = lorModel.evaluate(lor_datatrain).predictions\n",
    "train_pred.select(['features','RainTomorrow','probability','prediction']).show(3)"
   ]
  },
  {
   "cell_type": "code",
   "execution_count": 193,
   "metadata": {},
   "outputs": [],
   "source": [
    "train_result = train_pred.toPandas()\n",
    "train_result_data = train_result[[\"RainTomorrow\",\"prediction\"]]"
   ]
  },
  {
   "cell_type": "code",
   "execution_count": 194,
   "metadata": {},
   "outputs": [
    {
     "name": "stdout",
     "output_type": "stream",
     "text": [
      "Confusion matrix for train data:\n"
     ]
    },
    {
     "data": {
      "image/png": "[encoded data removed]",
      "text/plain": [
       "<Figure size 432x288 with 2 Axes>"
      ]
     },
     "metadata": {
      "needs_background": "light"
     },
     "output_type": "display_data"
    }
   ],
   "source": [
    "from sklearn.metrics import ConfusionMatrixDisplay, confusion_matrix\n",
    "cm = confusion_matrix(train_result_data[\"RainTomorrow\"], train_result_data[\"prediction\"])\n",
    "display = ConfusionMatrixDisplay(confusion_matrix=cm,)\n",
    "print('Confusion matrix for train data:')\n",
    "display.plot();"
   ]
  },
  {
   "cell_type": "markdown",
   "metadata": {},
   "source": [
    "* Logistic regression Model correctly identified `37585` Actual number:0 and Predict number:0 (`True Negative - TN`) for train set\n",
    "* Logistic regression Model correctly identified `4983` Actual number:1 and Predict number:1. (`True Positive - TP`) for train set\n",
    "* Logistic regression Model incorrectly identified `1647` Actual number:1 but Predict number:0. (`False Negative - FN`) for train set\n",
    "* Logistic regression Model incorrectly identified `7159` Actual number:0 but Predict number:1. (`False Positive - FP`) for train set"
   ]
  },
  {
   "cell_type": "code",
   "execution_count": 195,
   "metadata": {},
   "outputs": [
    {
     "name": "stdout",
     "output_type": "stream",
     "text": [
      "+--------------------+------------+--------------------+----------+\n",
      "|            features|RainTomorrow|         probability|prediction|\n",
      "+--------------------+------------+--------------------+----------+\n",
      "|[0.0,11.0,100.0,6...|           0|[0.89374439670615...|       0.0|\n",
      "|[0.0,13.0,69.0,60...|           0|[0.86552231950389...|       0.0|\n",
      "|[0.0,13.0,75.0,57...|           0|[0.84344946148804...|       0.0|\n",
      "+--------------------+------------+--------------------+----------+\n",
      "only showing top 3 rows\n",
      "\n"
     ]
    }
   ],
   "source": [
    "# evaluate on test data\n",
    "test_result = lorModel.evaluate(lor_datatest).predictions\n",
    "test_result.select(['features','RainTomorrow','probability','prediction']).show(3)"
   ]
  },
  {
   "cell_type": "code",
   "execution_count": 196,
   "metadata": {},
   "outputs": [],
   "source": [
    "test_data = test_result.toPandas()\n",
    "test_result_data = test_data[[\"RainTomorrow\",\"prediction\"]]"
   ]
  },
  {
   "cell_type": "code",
   "execution_count": 197,
   "metadata": {},
   "outputs": [
    {
     "name": "stdout",
     "output_type": "stream",
     "text": [
      "Confusion matrix for train data:\n"
     ]
    },
    {
     "data": {
      "image/png": "[encoded data removed]",
      "text/plain": [
       "<Figure size 432x288 with 2 Axes>"
      ]
     },
     "metadata": {
      "needs_background": "light"
     },
     "output_type": "display_data"
    }
   ],
   "source": [
    "from sklearn.metrics import ConfusionMatrixDisplay, confusion_matrix\n",
    "cm = confusion_matrix(test_result_data[\"RainTomorrow\"], test_result_data[\"prediction\"])\n",
    "display = ConfusionMatrixDisplay(confusion_matrix=cm,)\n",
    "print('Confusion matrix for train data:')\n",
    "display.plot();"
   ]
  },
  {
   "cell_type": "markdown",
   "metadata": {},
   "source": [
    "* Logistic regression Model correctly identified `16185` Actual number:0 and Predict number:0 (`True Negative - TN`) for test set\n",
    "* Logistic regression Model correctly identified `2042` Actual number:1 and Predict number:1. (`True Positive - TP`) for test set\n",
    "* Logistic regression Model incorrectly identified `752` Actual number:1 but Predict number:0. (`False Negative - FN`) for test set\n",
    "* Logistic regression Model incorrectly identified `3058` Actual number:0 but Predict number:1. (`False Positive - FP`) for test set"
   ]
  },
  {
   "cell_type": "markdown",
   "metadata": {},
   "source": [
    "## step5: Logistic Regression Model evaluation"
   ]
  },
  {
   "cell_type": "code",
   "execution_count": 198,
   "metadata": {},
   "outputs": [
    {
     "name": "stdout",
     "output_type": "stream",
     "text": [
      "              precision    recall  f1-score   support\n",
      "\n",
      "           0   0.840001  0.958019  0.895137     39232\n",
      "           1   0.751584  0.410394  0.530897     12142\n",
      "\n",
      "    accuracy                       0.828590     51374\n",
      "   macro avg   0.795792  0.684206  0.713017     51374\n",
      "weighted avg   0.819104  0.828590  0.809050     51374\n",
      "\n"
     ]
    }
   ],
   "source": [
    "from sklearn.metrics import classification_report, confusion_matrix\n",
    "\n",
    "predictions_train = lorModel.transform(lor_datatrain)\n",
    "\n",
    "Actual_data = predictions_train.select(['RainTomorrow']).collect()\n",
    "pre_data = predictions_train.select(['prediction']).collect()\n",
    "\n",
    "# '0' = RainTomorrow(No),'1'= RainTomorrow(Yes)\n",
    "print(classification_report(Actual_data, pre_data, target_names=['0', '1'], digits=6))"
   ]
  },
  {
   "cell_type": "markdown",
   "metadata": {},
   "source": [
    "## step6 : plot the ROC figure of train set"
   ]
  },
  {
   "cell_type": "code",
   "execution_count": 199,
   "metadata": {},
   "outputs": [
    {
     "data": {
      "image/png": "[encoded data removed]",
      "text/plain": [
       "<Figure size 432x288 with 1 Axes>"
      ]
     },
     "metadata": {
      "needs_background": "light"
     },
     "output_type": "display_data"
    },
    {
     "name": "stdout",
     "output_type": "stream",
     "text": [
      "Training set areaUnderROC: 0.8251712519226\n"
     ]
    }
   ],
   "source": [
    "trainingSum = lorModel.summary\n",
    "\n",
    "lr_roc = trainingSum.roc.toPandas()\n",
    "plt.plot(lr_roc['FPR'],lr_roc['TPR'])\n",
    "plt.ylabel('False Positive Rate')\n",
    "plt.xlabel('True Positive Rate')\n",
    "plt.title('ROC Curve')\n",
    "plt.show()\n",
    "\n",
    "print('Training set areaUnderROC: ' + str(trainingSum.areaUnderROC))"
   ]
  }
 ],
 "metadata": {
  "kernelspec": {
   "display_name": "Python 3",
   "language": "python",
   "name": "python3"
  },
  "language_info": {
   "codemirror_mode": {
    "name": "ipython",
    "version": 3
   },
   "file_extension": ".py",
   "mimetype": "text/x-python",
   "name": "python",
   "nbconvert_exporter": "python",
   "pygments_lexer": "ipython3",
   "version": "3.8.6"
  }
 },
 "nbformat": 4,
 "nbformat_minor": 4
}
